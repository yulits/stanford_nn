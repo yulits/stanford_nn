{
 "cells": [
  {
   "cell_type": "markdown",
   "metadata": {},
   "source": [
    "# Fully-Connected Neural Nets\n",
    "In the previous homework you implemented a fully-connected two-layer neural network on CIFAR-10. The implementation was simple but not very modular since the loss and gradient were computed in a single monolithic function. This is manageable for a simple two-layer network, but would become impractical as we move to bigger models. Ideally we want to build networks using a more modular design so that we can implement different layer types in isolation and then snap them together into models with different architectures.\n",
    "\n",
    "In this exercise we will implement fully-connected networks using a more modular approach. For each layer we will implement a `forward` and a `backward` function. The `forward` function will receive inputs, weights, and other parameters and will return both an output and a `cache` object storing data needed for the backward pass, like this:\n",
    "\n",
    "```python\n",
    "def layer_forward(x, w):\n",
    "  \"\"\" Receive inputs x and weights w \"\"\"\n",
    "  # Do some computations ...\n",
    "  z = # ... some intermediate value\n",
    "  # Do some more computations ...\n",
    "  out = # the output\n",
    "   \n",
    "  cache = (x, w, z, out) # Values we need to compute gradients\n",
    "   \n",
    "  return out, cache\n",
    "```\n",
    "\n",
    "The backward pass will receive upstream derivatives and the `cache` object, and will return gradients with respect to the inputs and weights, like this:\n",
    "\n",
    "```python\n",
    "def layer_backward(dout, cache):\n",
    "  \"\"\"\n",
    "  Receive dout (derivative of loss with respect to outputs) and cache,\n",
    "  and compute derivative with respect to inputs.\n",
    "  \"\"\"\n",
    "  # Unpack cache values\n",
    "  x, w, z, out = cache\n",
    "  \n",
    "  # Use values in cache to compute derivatives\n",
    "  dx = # Derivative of loss with respect to x\n",
    "  dw = # Derivative of loss with respect to w\n",
    "  \n",
    "  return dx, dw\n",
    "```\n",
    "\n",
    "After implementing a bunch of layers this way, we will be able to easily combine them to build classifiers with different architectures.\n",
    "\n",
    "In addition to implementing fully-connected networks of arbitrary depth, we will also explore different update rules for optimization, and introduce Dropout as a regularizer and Batch/Layer Normalization as a tool to more efficiently optimize deep networks.\n",
    "  "
   ]
  },
  {
   "cell_type": "code",
   "execution_count": 1,
   "metadata": {},
   "outputs": [
    {
     "name": "stdout",
     "output_type": "stream",
     "text": [
      "run the following from the cs231n directory and try again:\n",
      "python setup.py build_ext --inplace\n",
      "You may also need to restart your iPython kernel\n",
      "The autoreload extension is already loaded. To reload it, use:\n",
      "  %reload_ext autoreload\n"
     ]
    }
   ],
   "source": [
    "# As usual, a bit of setup\n",
    "# from __future__ import print_function\n",
    "%reload_ext autoreload\n",
    "import time\n",
    "import numpy as np\n",
    "import matplotlib.pyplot as plt\n",
    "from cs231n.classifiers.fc_net import *\n",
    "from cs231n.data_utils import get_CIFAR10_data\n",
    "from cs231n.gradient_check import eval_numerical_gradient, eval_numerical_gradient_array\n",
    "from cs231n.solver import Solver\n",
    "\n",
    "%matplotlib inline\n",
    "plt.rcParams['figure.figsize'] = (10.0, 8.0) # set default size of plots\n",
    "plt.rcParams['image.interpolation'] = 'nearest'\n",
    "plt.rcParams['image.cmap'] = 'gray'\n",
    "\n",
    "# for auto-reloading external modules\n",
    "# see http://stackoverflow.com/questions/1907993/autoreload-of-modules-in-ipython\n",
    "%load_ext autoreload\n",
    "%autoreload 2\n",
    "\n",
    "def rel_error(x, y):\n",
    "  \"\"\" returns relative error \"\"\"\n",
    "  return np.max(np.abs(x - y) / (np.maximum(1e-8, np.abs(x) + np.abs(y))))"
   ]
  },
  {
   "cell_type": "code",
   "execution_count": 2,
   "metadata": {},
   "outputs": [
    {
     "name": "stdout",
     "output_type": "stream",
     "text": [
      "('X_train: ', (49000, 3, 32, 32))\n",
      "('y_train: ', (49000,))\n",
      "('X_val: ', (1000, 3, 32, 32))\n",
      "('y_val: ', (1000,))\n",
      "('X_test: ', (1000, 3, 32, 32))\n",
      "('y_test: ', (1000,))\n"
     ]
    }
   ],
   "source": [
    "# Load the (preprocessed) CIFAR10 data.\n",
    "\n",
    "data = get_CIFAR10_data()\n",
    "for k, v in list(data.items()):\n",
    "  print(('%s: ' % k, v.shape))"
   ]
  },
  {
   "cell_type": "markdown",
   "metadata": {},
   "source": [
    "# Affine layer: foward\n",
    "Open the file `cs231n/layers.py` and implement the `affine_forward` function.\n",
    "\n",
    "Once you are done you can test your implementaion by running the following:"
   ]
  },
  {
   "cell_type": "code",
   "execution_count": 3,
   "metadata": {},
   "outputs": [
    {
     "name": "stdout",
     "output_type": "stream",
     "text": [
      "Testing affine_forward function:\n",
      "difference:  9.769849468192957e-10\n"
     ]
    }
   ],
   "source": [
    "# Test the affine_forward function\n",
    "\n",
    "num_inputs = 2\n",
    "input_shape = (4, 5, 6)\n",
    "output_dim = 3\n",
    "\n",
    "input_size = num_inputs * np.prod(input_shape)\n",
    "weight_size = output_dim * np.prod(input_shape)\n",
    "\n",
    "x = np.linspace(-0.1, 0.5, num=input_size).reshape(num_inputs, *input_shape)\n",
    "w = np.linspace(-0.2, 0.3, num=weight_size).reshape(np.prod(input_shape), output_dim)\n",
    "b = np.linspace(-0.3, 0.1, num=output_dim)\n",
    "\n",
    "out, _ = affine_forward(x, w, b)\n",
    "correct_out = np.array([[ 1.49834967,  1.70660132,  1.91485297],\n",
    "                        [ 3.25553199,  3.5141327,   3.77273342]])\n",
    "\n",
    "# Compare your output with ours. The error should be around e-9 or less.\n",
    "print('Testing affine_forward function:')\n",
    "print('difference: ', rel_error(out, correct_out))"
   ]
  },
  {
   "cell_type": "code",
   "execution_count": 33,
   "metadata": {},
   "outputs": [
    {
     "data": {
      "text/plain": [
       "(10, 6)"
      ]
     },
     "execution_count": 33,
     "metadata": {},
     "output_type": "execute_result"
    }
   ],
   "source": [
    "x.reshape(x.shape[0],-1).shape"
   ]
  },
  {
   "cell_type": "code",
   "execution_count": 34,
   "metadata": {},
   "outputs": [
    {
     "data": {
      "text/plain": [
       "((6, 5), (5,))"
      ]
     },
     "execution_count": 34,
     "metadata": {},
     "output_type": "execute_result"
    }
   ],
   "source": [
    "w.shape, b.shape"
   ]
  },
  {
   "cell_type": "code",
   "execution_count": 32,
   "metadata": {},
   "outputs": [
    {
     "data": {
      "text/plain": [
       "(10, 5)"
      ]
     },
     "execution_count": 32,
     "metadata": {},
     "output_type": "execute_result"
    }
   ],
   "source": [
    "dout.shape"
   ]
  },
  {
   "cell_type": "markdown",
   "metadata": {},
   "source": [
    "# Affine layer: backward\n",
    "Now implement the `affine_backward` function and test your implementation using numeric gradient checking."
   ]
  },
  {
   "cell_type": "code",
   "execution_count": 4,
   "metadata": {},
   "outputs": [
    {
     "name": "stdout",
     "output_type": "stream",
     "text": [
      "Testing affine_backward function:\n",
      "dx error:  5.399100368651805e-11\n",
      "dw error:  9.904211865398145e-11\n",
      "db error:  2.4122867568119087e-11\n"
     ]
    }
   ],
   "source": [
    "# Test the affine_backward function\n",
    "np.random.seed(231)\n",
    "x = np.random.randn(10, 2, 3)\n",
    "w = np.random.randn(6, 5)\n",
    "b = np.random.randn(5)\n",
    "dout = np.random.randn(10, 5)\n",
    "\n",
    "dx_num = eval_numerical_gradient_array(lambda x: affine_forward(x, w, b)[0], x, dout)\n",
    "dw_num = eval_numerical_gradient_array(lambda w: affine_forward(x, w, b)[0], w, dout)\n",
    "db_num = eval_numerical_gradient_array(lambda b: affine_forward(x, w, b)[0], b, dout)\n",
    "\n",
    "_, cache = affine_forward(x, w, b)\n",
    "dx, dw, db = affine_backward(dout, cache)\n",
    "# \n",
    "# The error should be around e-10 or less\n",
    "print('Testing affine_backward function:')\n",
    "print('dx error: ', rel_error(dx_num, dx))\n",
    "print('dw error: ', rel_error(dw_num, dw))\n",
    "print('db error: ', rel_error(db_num, db))"
   ]
  },
  {
   "cell_type": "code",
   "execution_count": 38,
   "metadata": {},
   "outputs": [
    {
     "data": {
      "text/plain": [
       "array([-5.78588657, -2.14288946, -3.93648137, -4.10664587, -0.09253319])"
      ]
     },
     "execution_count": 38,
     "metadata": {},
     "output_type": "execute_result"
    }
   ],
   "source": [
    "db_num"
   ]
  },
  {
   "cell_type": "code",
   "execution_count": 39,
   "metadata": {},
   "outputs": [
    {
     "data": {
      "text/plain": [
       "array([-5.78588657, -2.14288946, -3.93648137, -4.10664587, -0.09253319])"
      ]
     },
     "execution_count": 39,
     "metadata": {},
     "output_type": "execute_result"
    }
   ],
   "source": [
    "db"
   ]
  },
  {
   "cell_type": "markdown",
   "metadata": {},
   "source": [
    "# ReLU activation: forward\n",
    "Implement the forward pass for the ReLU activation function in the `relu_forward` function and test your implementation using the following:"
   ]
  },
  {
   "cell_type": "code",
   "execution_count": 5,
   "metadata": {},
   "outputs": [
    {
     "name": "stdout",
     "output_type": "stream",
     "text": [
      "Testing relu_forward function:\n",
      "difference:  4.999999798022158e-08\n"
     ]
    }
   ],
   "source": [
    "# Test the relu_forward function\n",
    "\n",
    "x = np.linspace(-0.5, 0.5, num=12).reshape(3, 4)\n",
    "\n",
    "out, _ = relu_forward(x)\n",
    "correct_out = np.array([[ 0.,          0.,          0.,          0.,        ],\n",
    "                        [ 0.,          0.,          0.04545455,  0.13636364,],\n",
    "                        [ 0.22727273,  0.31818182,  0.40909091,  0.5,       ]])\n",
    "\n",
    "# Compare your output with ours. The error should be on the order of e-8\n",
    "print('Testing relu_forward function:')\n",
    "print('difference: ', rel_error(out, correct_out))"
   ]
  },
  {
   "cell_type": "markdown",
   "metadata": {},
   "source": [
    "# ReLU activation: backward\n",
    "Now implement the backward pass for the ReLU activation function in the `relu_backward` function and test your implementation using numeric gradient checking:"
   ]
  },
  {
   "cell_type": "code",
   "execution_count": 6,
   "metadata": {},
   "outputs": [
    {
     "name": "stdout",
     "output_type": "stream",
     "text": [
      "Testing relu_backward function:\n",
      "dx error:  3.2756349136310288e-12\n"
     ]
    }
   ],
   "source": [
    "np.random.seed(231)\n",
    "x = np.random.randn(10, 10)\n",
    "dout = np.random.randn(*x.shape)\n",
    "\n",
    "dx_num = eval_numerical_gradient_array(lambda x: relu_forward(x)[0], x, dout)\n",
    "\n",
    "_, cache = relu_forward(x)\n",
    "dx = relu_backward(dout, cache)\n",
    "\n",
    "# The error should be on the order of e-12\n",
    "print('Testing relu_backward function:')\n",
    "print('dx error: ', rel_error(dx_num, dx))"
   ]
  },
  {
   "cell_type": "code",
   "execution_count": null,
   "metadata": {},
   "outputs": [],
   "source": []
  },
  {
   "cell_type": "markdown",
   "metadata": {},
   "source": [
    "## Inline Question 1: \n",
    "\n",
    "We've only asked you to implement ReLU, but there are a number of different activation functions that one could use in neural networks, each with its pros and cons. In particular, an issue commonly seen with activation functions is getting zero (or close to zero) gradient flow during backpropagation. Which of the following activation functions have this problem? If you consider these functions in the one dimensional case, what types of input would lead to this behaviour?\n",
    "1. Sigmoid\n",
    "2. ReLU\n",
    "3. Leaky ReLU"
   ]
  },
  {
   "cell_type": "markdown",
   "metadata": {},
   "source": [
    "## Answer:\n",
    "Sigmoid, very small values of weights\n"
   ]
  },
  {
   "cell_type": "markdown",
   "metadata": {},
   "source": [
    "# \"Sandwich\" layers\n",
    "There are some common patterns of layers that are frequently used in neural nets. For example, affine layers are frequently followed by a ReLU nonlinearity. To make these common patterns easy, we define several convenience layers in the file `cs231n/layer_utils.py`.\n",
    "\n",
    "For now take a look at the `affine_relu_forward` and `affine_relu_backward` functions, and run the following to numerically gradient check the backward pass:"
   ]
  },
  {
   "cell_type": "code",
   "execution_count": 7,
   "metadata": {},
   "outputs": [
    {
     "name": "stdout",
     "output_type": "stream",
     "text": [
      "Testing affine_relu_forward and affine_relu_backward:\n",
      "dx error:  2.299579177309368e-11\n",
      "dw error:  8.162011105764925e-11\n",
      "db error:  7.826724021458994e-12\n"
     ]
    }
   ],
   "source": [
    "from cs231n.layer_utils import affine_relu_forward, affine_relu_backward\n",
    "np.random.seed(231)\n",
    "x = np.random.randn(2, 3, 4)\n",
    "w = np.random.randn(12, 10)\n",
    "b = np.random.randn(10)\n",
    "dout = np.random.randn(2, 10)\n",
    "\n",
    "out, cache = affine_relu_forward(x, w, b)\n",
    "dx, dw, db = affine_relu_backward(dout, cache)\n",
    "\n",
    "dx_num = eval_numerical_gradient_array(lambda x: affine_relu_forward(x, w, b)[0], x, dout)\n",
    "dw_num = eval_numerical_gradient_array(lambda w: affine_relu_forward(x, w, b)[0], w, dout)\n",
    "db_num = eval_numerical_gradient_array(lambda b: affine_relu_forward(x, w, b)[0], b, dout)\n",
    "\n",
    "# Relative error should be around e-10 or less\n",
    "print('Testing affine_relu_forward and affine_relu_backward:')\n",
    "print('dx error: ', rel_error(dx_num, dx))\n",
    "print('dw error: ', rel_error(dw_num, dw))\n",
    "print('db error: ', rel_error(db_num, db))"
   ]
  },
  {
   "cell_type": "markdown",
   "metadata": {},
   "source": [
    "# Loss layers: Softmax and SVM\n",
    "You implemented these loss functions in the last assignment, so we'll give them to you for free here. You should still make sure you understand how they work by looking at the implementations in `cs231n/layers.py`.\n",
    "\n",
    "You can make sure that the implementations are correct by running the following:"
   ]
  },
  {
   "cell_type": "code",
   "execution_count": 8,
   "metadata": {},
   "outputs": [
    {
     "name": "stdout",
     "output_type": "stream",
     "text": [
      "Testing svm_loss:\n",
      "loss:  8.999602749096233\n",
      "dx error:  1.4021566006651672e-09\n",
      "\n",
      "Testing softmax_loss:\n",
      "loss:  2.302545844500738\n",
      "dx error:  9.384673161989355e-09\n"
     ]
    }
   ],
   "source": [
    "np.random.seed(231)\n",
    "num_classes, num_inputs = 10, 50\n",
    "x = 0.001 * np.random.randn(num_inputs, num_classes)\n",
    "y = np.random.randint(num_classes, size=num_inputs)\n",
    "\n",
    "dx_num = eval_numerical_gradient(lambda x: svm_loss(x, y)[0], x, verbose=False)\n",
    "loss, dx = svm_loss(x, y)\n",
    "\n",
    "# Test svm_loss function. Loss should be around 9 and dx error should be around the order of e-9\n",
    "print('Testing svm_loss:')\n",
    "print('loss: ', loss)\n",
    "print('dx error: ', rel_error(dx_num, dx))\n",
    "\n",
    "dx_num = eval_numerical_gradient(lambda x: softmax_loss(x, y)[0], x, verbose=False)\n",
    "loss, dx = softmax_loss(x, y)\n",
    "\n",
    "# Test softmax_loss function. Loss should be close to 2.3 and dx error should be around e-8\n",
    "print('\\nTesting softmax_loss:')\n",
    "print('loss: ', loss)\n",
    "print('dx error: ', rel_error(dx_num, dx))"
   ]
  },
  {
   "cell_type": "markdown",
   "metadata": {},
   "source": [
    "# Two-layer network\n",
    "In the previous assignment you implemented a two-layer neural network in a single monolithic class. Now that you have implemented modular versions of the necessary layers, you will reimplement the two layer network using these modular implementations.\n",
    "\n",
    "Open the file `cs231n/classifiers/fc_net.py` and complete the implementation of the `TwoLayerNet` class. This class will serve as a model for the other networks you will implement in this assignment, so read through it to make sure you understand the API. You can run the cell below to test your implementation."
   ]
  },
  {
   "cell_type": "code",
   "execution_count": 9,
   "metadata": {},
   "outputs": [
    {
     "name": "stdout",
     "output_type": "stream",
     "text": [
      "Testing initialization ... \n",
      "Testing test-time forward pass ... \n",
      "Testing training loss (no regularization)\n",
      "Running numeric gradient check with reg =  0.0\n",
      "W1 relative error: 1.83e-08\n",
      "W2 relative error: 3.31e-10\n",
      "b1 relative error: 9.83e-09\n",
      "b2 relative error: 4.33e-10\n",
      "Running numeric gradient check with reg =  0.7\n",
      "W1 relative error: 2.53e-07\n",
      "W2 relative error: 2.85e-08\n",
      "b1 relative error: 1.56e-08\n",
      "b2 relative error: 7.76e-10\n",
      "Running numeric gradient check with reg =  1.0\n",
      "W1 relative error: 5.80e-08\n",
      "W2 relative error: 1.78e-08\n",
      "b1 relative error: 1.35e-08\n",
      "b2 relative error: 9.09e-10\n"
     ]
    }
   ],
   "source": [
    "np.random.seed(231)\n",
    "N, D, H, C = 3, 5, 50, 7\n",
    "X = np.random.randn(N, D)\n",
    "y = np.random.randint(C, size=N)\n",
    "\n",
    "std = 1e-3\n",
    "model = TwoLayerNet(input_dim=D, hidden_dim=H, num_classes=C, weight_scale=std)\n",
    "\n",
    "print('Testing initialization ... ')\n",
    "W1_std = abs(model.params['W1'].std() - std)\n",
    "b1 = model.params['b1']\n",
    "W2_std = abs(model.params['W2'].std() - std)\n",
    "b2 = model.params['b2']\n",
    "assert W1_std < std / 10, 'First layer weights do not seem right'\n",
    "assert np.all(b1 == 0), 'First layer biases do not seem right'\n",
    "assert W2_std < std / 10, 'Second layer weights do not seem right'\n",
    "assert np.all(b2 == 0), 'Second layer biases do not seem right'\n",
    "\n",
    "print('Testing test-time forward pass ... ')\n",
    "model.params['W1'] = np.linspace(-0.7, 0.3, num=D*H).reshape(D, H)\n",
    "model.params['b1'] = np.linspace(-0.1, 0.9, num=H)\n",
    "model.params['W2'] = np.linspace(-0.3, 0.4, num=H*C).reshape(H, C)\n",
    "model.params['b2'] = np.linspace(-0.9, 0.1, num=C)\n",
    "X = np.linspace(-5.5, 4.5, num=N*D).reshape(D, N).T\n",
    "scores = model.loss(X)\n",
    "correct_scores = np.asarray(\n",
    "  [[11.53165108,  12.2917344,   13.05181771,  13.81190102,  14.57198434, 15.33206765,  16.09215096],\n",
    "   [12.05769098,  12.74614105,  13.43459113,  14.1230412,   14.81149128, 15.49994135,  16.18839143],\n",
    "   [12.58373087,  13.20054771,  13.81736455,  14.43418138,  15.05099822, 15.66781506,  16.2846319 ]])\n",
    "scores_diff = np.abs(scores - correct_scores).sum()\n",
    "assert scores_diff < 1e-6, 'Problem with test-time forward pass'\n",
    "\n",
    "print('Testing training loss (no regularization)')\n",
    "y = np.asarray([0, 5, 1])\n",
    "loss, grads = model.loss(X, y)\n",
    "correct_loss = 3.4702243556\n",
    "assert abs(loss - correct_loss) < 1e-10, 'Problem with training-time loss'\n",
    "\n",
    "model.reg = 1.0\n",
    "loss, grads = model.loss(X, y)\n",
    "correct_loss = 26.5948426952\n",
    "assert abs(loss - correct_loss) < 1e-10, 'Problem with regularization loss'\n",
    "\n",
    "# Errors should be around e-7 or less\n",
    "for reg in [0.0, 0.7, 1.0]:\n",
    "  print('Running numeric gradient check with reg = ', reg)\n",
    "  model.reg = reg\n",
    "  loss, grads = model.loss(X, y)\n",
    "\n",
    "  for name in sorted(grads):\n",
    "    f = lambda _: model.loss(X, y)[0]\n",
    "    grad_num = eval_numerical_gradient(f, model.params[name], verbose=False)\n",
    "    print('%s relative error: %.2e' % (name, rel_error(grad_num, grads[name])))"
   ]
  },
  {
   "cell_type": "markdown",
   "metadata": {},
   "source": [
    "# Solver\n",
    "In the previous assignment, the logic for training models was coupled to the models themselves. Following a more modular design, for this assignment we have split the logic for training models into a separate class.\n",
    "\n",
    "Open the file `cs231n/solver.py` and read through it to familiarize yourself with the API. After doing so, use a `Solver` instance to train a `TwoLayerNet` that achieves at least `50%` accuracy on the validation set."
   ]
  },
  {
   "cell_type": "code",
   "execution_count": 133,
   "metadata": {},
   "outputs": [
    {
     "data": {
      "text/plain": [
       "{'W1': {'learning_rate': 0.001},\n",
       " 'b1': {'learning_rate': 0.001},\n",
       " 'W2': {'learning_rate': 0.001},\n",
       " 'b2': {'learning_rate': 0.001}}"
      ]
     },
     "execution_count": 133,
     "metadata": {},
     "output_type": "execute_result"
    }
   ],
   "source": [
    "solver.optim_configs"
   ]
  },
  {
   "cell_type": "code",
   "execution_count": 132,
   "metadata": {
    "scrolled": true
   },
   "outputs": [
    {
     "data": {
      "text/plain": [
       "(3072, 100)"
      ]
     },
     "execution_count": 132,
     "metadata": {},
     "output_type": "execute_result"
    }
   ],
   "source": [
    "model.params['W1'].shape"
   ]
  },
  {
   "cell_type": "code",
   "execution_count": 12,
   "metadata": {},
   "outputs": [],
   "source": [
    "model = TwoLayerNet(reg=0.0)\n",
    "solver = None\n",
    "\n",
    "##############################################################################\n",
    "# TODO: Use a Solver instance to train a TwoLayerNet that achieves at least  #\n",
    "# 50% accuracy on the validation set.                                        #\n",
    "##############################################################################\n",
    "optim_config = {'learning_rate': 0.00001}\n",
    "\n",
    "solver = Solver(model, data, \n",
    "                optim_config={\n",
    "                          'learning_rate': 1e-3 },\n",
    "               verbose=False)\n",
    "solver.train()\n",
    "##############################################################################\n",
    "#                             END OF YOUR CODE                               #\n",
    "##############################################################################"
   ]
  },
  {
   "cell_type": "code",
   "execution_count": 156,
   "metadata": {},
   "outputs": [
    {
     "data": {
      "text/plain": [
       "0.505"
      ]
     },
     "execution_count": 156,
     "metadata": {},
     "output_type": "execute_result"
    }
   ],
   "source": [
    "solver.best_val_acc"
   ]
  },
  {
   "cell_type": "code",
   "execution_count": 157,
   "metadata": {},
   "outputs": [
    {
     "data": {
      "image/png": "[encoded data removed]",
      "text/plain": [
       "<Figure size 1080x864 with 2 Axes>"
      ]
     },
     "metadata": {},
     "output_type": "display_data"
    }
   ],
   "source": [
    "# Run this cell to visualize training loss and train / val accuracy\n",
    "\n",
    "plt.subplot(2, 1, 1)\n",
    "plt.title('Training loss')\n",
    "plt.plot(solver.loss_history, 'o')\n",
    "plt.xlabel('Iteration')\n",
    "\n",
    "plt.subplot(2, 1, 2)\n",
    "plt.title('Accuracy')\n",
    "plt.plot(solver.train_acc_history, '-o', label='train')\n",
    "plt.plot(solver.val_acc_history, '-o', label='val')\n",
    "plt.plot([0.5] * len(solver.val_acc_history), 'k--')\n",
    "plt.xlabel('Epoch')\n",
    "plt.legend(loc='lower right')\n",
    "plt.gcf().set_size_inches(15, 12)\n",
    "plt.show()"
   ]
  },
  {
   "cell_type": "markdown",
   "metadata": {},
   "source": [
    "# Multilayer network\n",
    "Next you will implement a fully-connected network with an arbitrary number of hidden layers.\n",
    "\n",
    "Read through the `FullyConnectedNet` class in the file `cs231n/classifiers/fc_net.py`.\n",
    "\n",
    "Implement the initialization, the forward pass, and the backward pass. For the moment don't worry about implementing dropout or batch/layer normalization; we will add those features soon."
   ]
  },
  {
   "cell_type": "markdown",
   "metadata": {},
   "source": [
    "## Initial loss and gradient check"
   ]
  },
  {
   "cell_type": "markdown",
   "metadata": {},
   "source": [
    "As a sanity check, run the following to check the initial loss and to gradient check the network both with and without regularization. Do the initial losses seem reasonable?\n",
    "\n",
    "For gradient checking, you should expect to see errors around 1e-7 or less."
   ]
  },
  {
   "cell_type": "code",
   "execution_count": 471,
   "metadata": {},
   "outputs": [
    {
     "name": "stdout",
     "output_type": "stream",
     "text": [
      "Running check with reg =  0\n",
      "Initial loss:  2.3004685249997943\n",
      "W1 relative error: 2.64e-06\n",
      "W2 relative error: 6.95e-07\n",
      "W3 relative error: 6.20e-08\n",
      "b1 relative error: 4.70e-08\n",
      "b2 relative error: 9.44e-09\n",
      "b3 relative error: 1.41e-10\n",
      "Running check with reg =  3.14\n",
      "Initial loss:  7.122813298025633\n",
      "W1 relative error: 7.93e-09\n",
      "W2 relative error: 2.92e-08\n",
      "W3 relative error: 7.34e-08\n",
      "b1 relative error: 3.89e-07\n",
      "b2 relative error: 9.44e-09\n",
      "b3 relative error: 1.41e-10\n"
     ]
    }
   ],
   "source": [
    "np.random.seed(231)\n",
    "N, D, H1, H2, C = 2, 15, 20, 30, 10\n",
    "X = np.random.randn(N, D)\n",
    "y = np.random.randint(C, size=(N,))\n",
    "\n",
    "for reg in [0, 3.14]:\n",
    "  print('Running check with reg = ', reg)\n",
    "  model_old = FullyConnectedNet([H1, H2], input_dim=D, num_classes=C,\n",
    "                            reg=reg, weight_scale=5e-2, dtype=np.float64)\n",
    "\n",
    "  model = FullyConnectedNet([H1, H2], input_dim=D, num_classes=C,\n",
    "                            reg=reg, weight_scale=5e-2, dtype=np.float64)\n",
    "\n",
    "  loss_old, grads_old = model_old.loss_old(X, y)\n",
    "  loss, grads = model.loss(X, y)\n",
    "  print('Initial loss: ', loss)\n",
    "  \n",
    "  # Most of the errors should be on the order of e-7 or smaller.   \n",
    "  # NOTE: It is fine however to see an error for W2 on the order of e-5\n",
    "  # for the check when reg = 0.0\n",
    "  for name in sorted(grads_old):\n",
    "    f = lambda _: model_old.loss_old(X, y)[0]\n",
    "    grad_num = eval_numerical_gradient(f, model_old.params[name], verbose=False, h=1e-5)\n",
    "    print('%s relative error: %.2e' % (name, rel_error(grad_num, grads_old[name])))\n",
    "#     print('%s relative error: %.2e' % (name, rel_error(grads[name], grads_old[name])))"
   ]
  },
  {
   "cell_type": "code",
   "execution_count": 468,
   "metadata": {},
   "outputs": [
    {
     "data": {
      "text/plain": [
       "(7.122813298025633, 7.122813298025633)"
      ]
     },
     "execution_count": 468,
     "metadata": {},
     "output_type": "execute_result"
    }
   ],
   "source": [
    "loss_old, loss"
   ]
  },
  {
   "cell_type": "code",
   "execution_count": 459,
   "metadata": {},
   "outputs": [
    {
     "data": {
      "text/plain": [
       "array([ 0.03114093, -0.04241377,  0.05396866,  0.04721772, -0.04733011,\n",
       "       -0.01817134, -0.08771567, -0.01898335, -0.03792949,  0.04075107,\n",
       "       -0.06287073,  0.05223045, -0.00867447, -0.01075084,  0.06733607,\n",
       "       -0.03551833,  0.04538117,  0.02471361, -0.01216483,  0.04221426])"
      ]
     },
     "execution_count": 459,
     "metadata": {},
     "output_type": "execute_result"
    }
   ],
   "source": [
    "model.params['W1'][0]"
   ]
  },
  {
   "cell_type": "code",
   "execution_count": 460,
   "metadata": {},
   "outputs": [
    {
     "data": {
      "text/plain": [
       "array([ 0.1007736 , -0.08954097, -0.01291731,  0.03217375, -0.01365922,\n",
       "        0.05584141,  0.0274609 , -0.03311944,  0.04934949, -0.02130858,\n",
       "       -0.02561542,  0.01166319,  0.03716451,  0.0014136 , -0.02301735,\n",
       "        0.03659762,  0.05281121, -0.00427419, -0.08742048,  0.0349061 ])"
      ]
     },
     "execution_count": 460,
     "metadata": {},
     "output_type": "execute_result"
    }
   ],
   "source": [
    "model_old.params['W1'][0]"
   ]
  },
  {
   "cell_type": "code",
   "execution_count": 32,
   "metadata": {},
   "outputs": [
    {
     "name": "stdout",
     "output_type": "stream",
     "text": [
      "Running check with reg =  0\n",
      "Initial loss:  2.3004685249997943\n",
      "W1 relative error: 2.64e-06\n",
      "W2 relative error: 6.95e-07\n",
      "W3 relative error: 6.20e-08\n",
      "b1 relative error: 4.70e-08\n",
      "b2 relative error: 9.44e-09\n",
      "b3 relative error: 1.41e-10\n",
      "Running check with reg =  3.14\n",
      "Initial loss:  7.122813298025633\n",
      "W1 relative error: 7.93e-09\n",
      "W2 relative error: 2.92e-08\n",
      "W3 relative error: 7.34e-08\n",
      "b1 relative error: 3.89e-07\n",
      "b2 relative error: 9.44e-09\n",
      "b3 relative error: 1.41e-10\n"
     ]
    }
   ],
   "source": [
    "np.random.seed(231)\n",
    "N, D, H1, H2, C = 2, 15, 20, 30, 10\n",
    "X = np.random.randn(N, D)\n",
    "y = np.random.randint(C, size=(N,))\n",
    "\n",
    "for reg in [0, 3.14]:\n",
    "  print('Running check with reg = ', reg)\n",
    "  model = FullyConnectedNet([H1, H2], input_dim=D, num_classes=C,\n",
    "                            reg=reg, weight_scale=5e-2, dtype=np.float64)\n",
    "\n",
    "  loss, grads = model.loss(X, y)\n",
    "  print('Initial loss: ', loss)\n",
    "  \n",
    "  # Most of the errors should be on the order of e-7 or smaller.   \n",
    "  # NOTE: It is fine however to see an error for W2 on the order of e-5\n",
    "  # for the check when reg = 0.0\n",
    "  for name in sorted(grads):\n",
    "    f = lambda _: model.loss(X, y)[0]\n",
    "    grad_num = eval_numerical_gradient(f, model.params[name], verbose=False, h=1e-5)\n",
    "    print('%s relative error: %.2e' % (name, rel_error(grad_num, grads[name])))"
   ]
  },
  {
   "cell_type": "code",
   "execution_count": 41,
   "metadata": {},
   "outputs": [
    {
     "name": "stdout",
     "output_type": "stream",
     "text": [
      "Running check with reg =  0\n",
      "Initial loss:  2.3004685249997943\n",
      "W1 relative error: 2.64e-06\n",
      "W2 relative error: 6.95e-07\n",
      "W3 relative error: 6.20e-08\n",
      "b1 relative error: 4.70e-08\n",
      "b2 relative error: 9.44e-09\n",
      "b3 relative error: 1.41e-10\n",
      "Running check with reg =  3.14\n",
      "Initial loss:  7.122813298025633\n",
      "W1 relative error: 7.93e-09\n",
      "W2 relative error: 2.92e-08\n",
      "W3 relative error: 7.34e-08\n",
      "b1 relative error: 3.89e-07\n",
      "b2 relative error: 9.44e-09\n",
      "b3 relative error: 1.41e-10\n"
     ]
    }
   ],
   "source": [
    "np.random.seed(231)\n",
    "N, D, H1, H2, C = 2, 15, 20, 30, 10\n",
    "X = np.random.randn(N, D)\n",
    "y = np.random.randint(C, size=(N,))\n",
    "\n",
    "for reg in [0, 3.14]:\n",
    "  print('Running check with reg = ', reg)\n",
    "  model = FullyConnectedNet([H1, H2], input_dim=D, num_classes=C,\n",
    "                            reg=reg, weight_scale=5e-2, dtype=np.float64)\n",
    "\n",
    "  loss, grads = model.loss(X, y)\n",
    "  print('Initial loss: ', loss)\n",
    "  \n",
    "  # Most of the errors should be on the order of e-7 or smaller.   \n",
    "  # NOTE: It is fine however to see an error for W2 on the order of e-5\n",
    "  # for the check when reg = 0.0\n",
    "  for name in sorted(grads):\n",
    "    f = lambda _: model.loss(X, y)[0]\n",
    "    grad_num = eval_numerical_gradient(f, model.params[name], verbose=False, h=1e-5)\n",
    "    print('%s relative error: %.2e' % (name, rel_error(grad_num, grads[name])))"
   ]
  },
  {
   "cell_type": "code",
   "execution_count": 39,
   "metadata": {},
   "outputs": [
    {
     "data": {
      "text/plain": [
       "{'W3': array([[ 3.25659371e-02, -3.76964884e-01, -2.06872798e-01,\n",
       "         -9.58792683e-02,  9.05394624e-02, -1.93899826e-01,\n",
       "         -1.73255393e-01, -1.51447987e-01,  2.59449112e-01,\n",
       "         -1.99708285e-01],\n",
       "        [-1.39546206e-01, -2.10717267e-01, -3.56025648e-02,\n",
       "          6.51292287e-02, -1.29612330e-02,  1.85524234e-01,\n",
       "          6.96638384e-02,  1.32866323e-03,  1.44660596e-01,\n",
       "          7.45642783e-02],\n",
       "        [-3.08499474e-02,  2.87390847e-02, -8.50225591e-02,\n",
       "          3.17423529e-02, -7.48526583e-02, -1.14653631e-02,\n",
       "          2.15909028e-01, -1.40660680e-01,  1.03554911e-01,\n",
       "         -3.01001475e-02],\n",
       "        [-1.99427003e-01, -3.70112779e-01,  1.83142226e-01,\n",
       "          1.62829731e-01,  3.76423352e-02,  2.34852647e-01,\n",
       "         -4.31646876e-02, -6.86365474e-02,  9.50956467e-02,\n",
       "         -1.75552266e-01],\n",
       "        [-3.57912355e-02,  1.76627833e-01,  9.27384558e-02,\n",
       "         -8.06515144e-02,  1.88881367e-02, -1.79904895e-01,\n",
       "          4.55741178e-02,  5.42244625e-02, -9.69593220e-02,\n",
       "         -1.92342118e-01],\n",
       "        [ 1.21595227e-01,  5.64091849e-02,  3.63824675e-01,\n",
       "          1.41885044e-01,  8.51685490e-02,  1.89338204e-01,\n",
       "         -1.68786588e-01, -9.85232273e-02,  6.30124365e-02,\n",
       "          3.19108880e-02],\n",
       "        [ 2.45186299e-01,  2.68774675e-01,  1.02278765e-01,\n",
       "          3.39229491e-03, -1.93587964e-01, -6.62097532e-03,\n",
       "          5.37793311e-02, -6.21718667e-02, -9.28770618e-02,\n",
       "          1.00787543e-01],\n",
       "        [-2.50836111e-01,  1.74548530e-01, -1.75049517e-01,\n",
       "          2.50733534e-01, -1.01506604e-01, -8.30871959e-02,\n",
       "          3.20820111e-01,  1.54205211e-01, -9.50090897e-02,\n",
       "         -2.41972763e-01],\n",
       "        [ 7.38505068e-02,  4.16712644e-02,  2.28650288e-01,\n",
       "          1.80541605e-01,  2.56440495e-01,  4.42263574e-02,\n",
       "          2.55543482e-01, -2.68445845e-02, -8.54594708e-02,\n",
       "         -1.93732127e-01],\n",
       "        [ 6.86981262e-03, -5.54766667e-02,  1.25204255e-01,\n",
       "         -2.00660663e-02, -5.13618053e-02,  1.13763915e-01,\n",
       "          5.75559553e-03, -5.68526960e-02, -3.43800664e-01,\n",
       "         -9.31059560e-02],\n",
       "        [-2.42156446e-02,  4.53220080e-01,  1.44475601e-01,\n",
       "          3.56330564e-02, -1.05608403e-01,  7.53399841e-02,\n",
       "         -1.66165604e-01, -1.17729413e-01, -1.48450252e-01,\n",
       "          9.99996295e-02],\n",
       "        [ 7.09736885e-02, -5.78481969e-02,  1.82612457e-02,\n",
       "          3.03856529e-02, -3.87227682e-02,  9.53945969e-02,\n",
       "         -7.44415336e-02,  6.49841744e-02,  3.50257389e-02,\n",
       "         -1.50030941e-01],\n",
       "        [-4.10045983e-01, -3.45267437e-02, -1.45949507e-01,\n",
       "          1.05086137e-01,  3.07335126e-02,  2.26394591e-02,\n",
       "         -1.24637268e-01,  1.19425836e-01, -1.97927605e-01,\n",
       "         -3.94809747e-02],\n",
       "        [ 2.21286085e-02,  2.51962246e-01, -1.21834278e-02,\n",
       "          1.76887975e-01, -1.82429466e-01,  3.67226052e-03,\n",
       "          9.28841565e-02, -5.94752944e-03, -2.47952411e-02,\n",
       "         -6.09383823e-03],\n",
       "        [ 2.13994544e-01, -2.42765644e-02,  2.36065718e-01,\n",
       "          1.12680099e-01,  1.11600919e-01, -5.96979930e-02,\n",
       "         -1.86073521e-01,  1.21754913e-01,  2.83267951e-01,\n",
       "         -3.54580623e-02],\n",
       "        [-1.72880282e-02,  2.17015451e-01,  1.31787598e-01,\n",
       "          1.70343795e-01, -9.47433031e-02, -4.42527457e-02,\n",
       "         -1.56612910e-01, -5.73135505e-03, -1.33966055e-01,\n",
       "          2.63247985e-01],\n",
       "        [ 9.51612493e-02,  2.14787956e-01,  1.11442637e-01,\n",
       "         -1.13565923e-01, -3.30351558e-01, -1.41528834e-01,\n",
       "         -1.63120533e-01, -1.96770749e-01, -1.66722989e-01,\n",
       "          1.21812476e-01],\n",
       "        [-1.30152303e-01,  4.81930837e-02, -1.49099152e-01,\n",
       "         -9.15203133e-02, -3.12429602e-02, -2.16567055e-01,\n",
       "          1.29282117e-01,  5.79845511e-02,  8.96255166e-03,\n",
       "         -1.32167693e-01],\n",
       "        [-1.87309195e-01, -1.12658557e-01, -5.64798427e-02,\n",
       "         -3.78280606e-02, -1.70219324e-01,  6.67409486e-02,\n",
       "          1.84183513e-01, -1.87254388e-01, -2.55939568e-01,\n",
       "          7.19146375e-02],\n",
       "        [ 5.30959391e-02,  2.61317069e-01, -3.12144677e-02,\n",
       "         -1.02184581e-01,  1.81795630e-01, -3.93825477e-02,\n",
       "          1.62218138e-01, -3.54277379e-01,  1.81930049e-02,\n",
       "          4.15188557e-02],\n",
       "        [-3.12210703e-01, -1.51874991e-01,  1.20084915e-01,\n",
       "          7.29573004e-02,  4.18176436e-02,  1.06536135e-01,\n",
       "          2.41807167e-01,  5.78040267e-02,  6.33710433e-02,\n",
       "          4.20961309e-02],\n",
       "        [-3.13565246e-01,  1.04681267e-01,  1.14201854e-01,\n",
       "          3.75008709e-01,  8.41787169e-03,  2.34315667e-02,\n",
       "         -8.75401220e-02,  8.44141082e-02,  1.66967712e-01,\n",
       "          1.41752332e-01],\n",
       "        [-4.45757374e-03, -1.00897977e-01,  9.10858804e-03,\n",
       "          1.15375864e-01,  5.92024603e-02,  2.36220363e-01,\n",
       "         -7.38100922e-02,  1.57257840e-01, -2.05336955e-01,\n",
       "          1.49645832e-01],\n",
       "        [-2.54152100e-01, -1.62451203e-01,  1.21121234e-01,\n",
       "         -1.62537747e-01,  2.00665758e-01,  1.26674214e-01,\n",
       "         -4.16288856e-02,  2.30681039e-01, -3.32444717e-02,\n",
       "          1.04385235e-01],\n",
       "        [ 4.38021643e-04, -1.78101994e-01, -2.08875812e-01,\n",
       "          2.42889102e-01, -1.33960265e-01, -8.26736463e-02,\n",
       "         -1.54909562e-01, -2.35681785e-01, -4.69509356e-02,\n",
       "          3.34272196e-01],\n",
       "        [-1.31276732e-01,  2.84178937e-01, -4.76249562e-02,\n",
       "         -1.52278445e-01,  6.53703967e-02, -5.21009593e-02,\n",
       "         -4.39388320e-03,  1.69837894e-02, -4.20977705e-02,\n",
       "         -8.31806417e-02],\n",
       "        [ 2.43924271e-01,  1.60004876e-01,  7.27569709e-02,\n",
       "          4.83481712e-02,  4.31203053e-01, -5.78848955e-02,\n",
       "          1.92917853e-01, -1.23937070e-01,  4.19801184e-03,\n",
       "          3.64468882e-02],\n",
       "        [-7.12130232e-02,  9.75554463e-02, -7.07702143e-02,\n",
       "         -1.22019241e-02, -5.45925015e-02, -3.15797132e-02,\n",
       "          1.69353626e-01,  4.04818888e-02,  7.60871351e-02,\n",
       "         -1.54282013e-01],\n",
       "        [-3.68056003e-02,  4.58537009e-02,  2.35353444e-01,\n",
       "         -6.06128957e-02,  1.19217377e-01,  1.20731943e-02,\n",
       "         -2.90053531e-01, -2.41027279e-01, -4.83217991e-02,\n",
       "          6.35850780e-02],\n",
       "        [-3.40634496e-03, -1.34056312e-01,  1.50566465e-01,\n",
       "         -1.28900741e-01,  1.92591079e-01,  1.50657571e-01,\n",
       "          2.50690281e-01,  6.33811163e-02, -3.83659736e-02,\n",
       "          8.32010720e-02]]),\n",
       " 'b3': array([-0.40087234,  0.10033203,  0.10018186,  0.09978151,  0.09993155,\n",
       "         0.09988937,  0.10101235, -0.39969456,  0.09987519,  0.09956304]),\n",
       " 'W2': array([[ 3.01781090e-02, -4.90755272e-02,  1.12510773e-01,\n",
       "         -2.37292567e-01, -1.23454150e-01,  1.21623137e-02,\n",
       "         -9.59576856e-02, -2.01157675e-02,  1.06788693e-01,\n",
       "          1.40654295e-01, -1.90229197e-03,  1.46725310e-01,\n",
       "          6.71036638e-02, -2.67506749e-01,  1.94108319e-01,\n",
       "         -1.66259845e-01,  9.09527317e-03, -3.37070261e-02,\n",
       "          4.60041988e-02,  1.85466854e-02,  2.17798872e-01,\n",
       "         -1.81410001e-01,  3.04271628e-01, -1.37516692e-01,\n",
       "         -1.94786391e-01, -2.76628649e-01,  4.65890456e-02,\n",
       "         -5.58359320e-02, -1.32000451e-02, -1.13757093e-01],\n",
       "        [-7.23877147e-02,  2.25892785e-01, -1.63853394e-02,\n",
       "         -1.21479519e-01,  4.56604714e-02, -5.49358529e-02,\n",
       "         -1.92891730e-01, -2.81313886e-02, -1.02762869e-01,\n",
       "          4.19263206e-01,  8.25793201e-02,  1.20630149e-01,\n",
       "          1.60698310e-01,  3.15479861e-02, -2.44896343e-02,\n",
       "         -9.66088564e-02,  1.39691598e-02, -7.77476754e-02,\n",
       "         -1.19360386e-01,  1.68869618e-01, -8.96314190e-03,\n",
       "         -2.12198418e-01, -1.40798584e-01,  2.18120253e-01,\n",
       "          1.90850232e-01,  1.82074675e-01, -4.32277225e-02,\n",
       "         -4.67705409e-02,  3.87007388e-02,  2.01827198e-01],\n",
       "        [ 1.91608177e-01,  7.77163462e-02, -1.18991304e-01,\n",
       "          1.87346227e-02, -2.63232970e-01,  2.75343637e-01,\n",
       "         -1.90536188e-01,  2.76495729e-02,  4.74978020e-02,\n",
       "          7.07176673e-02,  1.95528380e-01,  4.18438618e-01,\n",
       "         -1.91792763e-01,  9.79943768e-02, -2.87540167e-01,\n",
       "         -1.19303030e-01,  2.41825347e-01,  3.61943948e-02,\n",
       "          1.94284659e-02,  3.03514037e-02,  9.76024732e-02,\n",
       "          1.39466713e-01, -3.90938131e-02,  9.74042199e-02,\n",
       "          3.34452513e-01,  4.94313382e-02, -8.07590904e-02,\n",
       "         -1.04951739e-01, -5.27471209e-01,  3.53258856e-01],\n",
       "        [-4.86308990e-02, -1.70250805e-01, -8.16515540e-02,\n",
       "          2.87248857e-01, -7.67818276e-03,  3.78848972e-02,\n",
       "          3.13104111e-02, -5.07411925e-02,  1.07844539e-01,\n",
       "         -9.36489622e-02,  1.22089935e-01,  1.20080483e-01,\n",
       "          5.80984453e-02,  2.02884511e-01, -1.93081298e-01,\n",
       "          1.00195786e-02,  2.16499159e-02,  1.26746751e-01,\n",
       "          3.54028098e-02,  3.84445576e-02, -2.20690188e-01,\n",
       "          1.51894293e-01, -2.19057977e-01, -5.58623084e-02,\n",
       "          2.18989400e-01,  3.97774403e-01,  8.38388314e-02,\n",
       "         -2.71938526e-01, -2.02851140e-01,  1.07775391e-01],\n",
       "        [ 9.29989627e-02, -2.10197655e-01,  1.04223893e-01,\n",
       "         -1.02400338e-01, -1.33565195e-01,  1.18551954e-01,\n",
       "          1.26951300e-02,  9.58924213e-02,  3.31639092e-01,\n",
       "         -1.61517051e-02, -1.82803016e-01,  1.60237827e-01,\n",
       "         -1.42178318e-01, -2.84014020e-02, -3.71692700e-01,\n",
       "          1.03806503e-02,  3.49397651e-02,  7.10673573e-03,\n",
       "         -5.85227569e-02, -4.14494634e-01,  1.72534171e-01,\n",
       "         -1.57172532e-02,  1.22679074e-02, -2.74137953e-01,\n",
       "         -6.97884378e-02,  2.86901307e-01, -4.22686600e-01,\n",
       "          1.50250137e-01, -2.22675692e-02,  1.36217809e-01],\n",
       "        [ 7.31823896e-02,  1.73336493e-01, -1.29153208e-01,\n",
       "          4.16160234e-02,  3.67059366e-01, -1.21270787e-01,\n",
       "         -4.45042544e-02, -1.51671364e-02,  6.29276371e-03,\n",
       "         -4.47429883e-02, -7.39995771e-02,  1.54230876e-01,\n",
       "          1.31165997e-01, -1.21567751e-01, -2.35255949e-01,\n",
       "         -1.22546298e-01,  4.25518748e-02, -2.20113193e-01,\n",
       "         -1.45381429e-01,  1.61439999e-01,  3.95669389e-02,\n",
       "         -4.28457650e-02,  2.28210048e-02,  2.14928306e-01,\n",
       "          1.10393419e-02, -2.21296026e-01,  2.79371355e-01,\n",
       "         -9.34828003e-02,  7.10147938e-02,  2.58014761e-02],\n",
       "        [ 1.71656826e-01, -2.23983377e-01,  3.03135088e-02,\n",
       "         -1.83915231e-01,  3.40388773e-02,  2.42578122e-01,\n",
       "          2.37484426e-02,  1.48042368e-01, -2.43770912e-03,\n",
       "         -1.45342469e-02,  1.95532525e-02,  8.49853471e-02,\n",
       "         -1.01313416e-01, -2.38438008e-01,  2.20547506e-01,\n",
       "         -2.97150818e-01,  1.08512347e-01,  1.48577791e-01,\n",
       "         -5.42777136e-02, -8.57982894e-02,  7.88884217e-02,\n",
       "          2.19600397e-01,  4.39464259e-02, -7.15486236e-02,\n",
       "          1.80869075e-01,  3.31796593e-01, -1.77990433e-01,\n",
       "         -1.15466257e-01,  5.81696488e-02,  7.35488602e-05],\n",
       "        [ 7.94949716e-02, -2.73790923e-02,  4.14741479e-02,\n",
       "          2.20086476e-02, -1.24029573e-01,  2.32984670e-01,\n",
       "         -2.60747258e-01, -1.02132289e-01,  9.81889556e-03,\n",
       "         -1.41399106e-01,  1.11360355e-01, -7.46254756e-02,\n",
       "         -3.94081177e-02, -1.25975675e-02,  8.98915959e-02,\n",
       "         -7.40317333e-02, -1.14694141e-01, -4.65917917e-01,\n",
       "         -3.36535664e-01,  1.21740919e-01,  2.84460566e-01,\n",
       "          2.23153687e-02, -6.66209252e-02, -6.13861845e-03,\n",
       "         -9.41883065e-02, -1.24149172e-02, -2.70828584e-01,\n",
       "          8.30635166e-02,  6.67937680e-02,  7.37651950e-02],\n",
       "        [-8.52206946e-02, -1.19683103e-01,  9.38292178e-02,\n",
       "         -1.85885967e-01, -7.18702372e-02, -6.24582736e-02,\n",
       "          1.18341838e-02,  3.26700151e-03, -1.97873904e-01,\n",
       "          1.18524039e-01,  2.02216658e-01, -1.14147920e-01,\n",
       "          1.15064313e-01,  1.49902789e-01, -4.31844732e-02,\n",
       "         -8.11647549e-02,  1.93896629e-01,  2.31017766e-01,\n",
       "         -1.09174927e-01, -1.20298171e-01, -6.24216128e-03,\n",
       "          1.89918441e-02, -7.48960915e-02,  5.02985789e-03,\n",
       "         -1.06079315e-01,  4.51717500e-01,  8.51412125e-02,\n",
       "          1.10413037e-01, -3.06769263e-01,  9.27552313e-02],\n",
       "        [ 1.36689130e-01, -2.54227260e-01,  2.42967295e-02,\n",
       "         -1.03440701e-01,  1.70367392e-01, -3.65812579e-02,\n",
       "         -8.26243333e-02,  3.85792060e-01,  3.09521688e-02,\n",
       "         -1.49697610e-01, -1.37118978e-02,  4.68278160e-02,\n",
       "          4.01684067e-03, -1.10629157e-01,  4.87948238e-02,\n",
       "         -1.56529712e-02, -7.62530211e-02,  1.05103013e-01,\n",
       "         -1.16718564e-01,  6.00089837e-02, -4.25368181e-02,\n",
       "         -3.36186082e-02,  9.96882079e-02,  2.08665075e-02,\n",
       "          1.80858244e-01, -1.55053134e-01,  1.95173336e-01,\n",
       "         -2.26819892e-01,  4.76955789e-02,  2.65234166e-01],\n",
       "        [-3.02962902e-01,  7.81408562e-02,  2.80115990e-02,\n",
       "          1.03285221e-01,  3.37930094e-03,  1.35205853e-02,\n",
       "          3.35919411e-01,  1.72757824e-02,  1.35017254e-01,\n",
       "          5.98137480e-02, -2.12490377e-01,  8.17998441e-02,\n",
       "         -1.88694269e-02, -7.57013581e-02,  7.84191609e-02,\n",
       "         -1.72176724e-02,  1.00154347e-01,  6.17700179e-02,\n",
       "          1.14910148e-01, -2.91065766e-02, -1.22455554e-01,\n",
       "          1.41397113e-03, -5.55680852e-02,  5.50374618e-01,\n",
       "         -5.84638248e-02, -2.51319485e-01, -9.00561998e-02,\n",
       "          1.25772386e-01,  6.46624958e-02, -8.58370878e-02],\n",
       "        [-2.04833164e-01, -1.55912471e-01,  9.39795438e-02,\n",
       "          1.07177191e-01, -3.87498537e-02, -1.18282659e-01,\n",
       "         -1.83494338e-01,  8.50136871e-03, -1.80371520e-01,\n",
       "          1.07356867e-01, -3.46303550e-01,  5.94417260e-02,\n",
       "          1.90406686e-02,  1.29919449e-01,  1.37426739e-01,\n",
       "         -1.97548779e-02, -8.56763682e-02,  4.14819448e-01,\n",
       "         -1.83484848e-01,  6.02991667e-03,  1.97232605e-01,\n",
       "         -9.31103425e-03,  1.12862196e-01, -1.39078999e-01,\n",
       "         -8.90199688e-02, -2.40047116e-01,  1.08790758e-01,\n",
       "          2.80844681e-01, -1.98118752e-01,  1.24699722e-01],\n",
       "        [-6.90693150e-02,  9.71772012e-02, -1.89606231e-02,\n",
       "         -5.82818463e-02, -4.88097646e-02, -4.14791774e-02,\n",
       "         -4.02234369e-03,  6.06156225e-02,  3.33154387e-01,\n",
       "         -6.76173559e-02, -7.11171741e-02, -1.99362086e-01,\n",
       "         -4.06071389e-02, -1.40501350e-02, -2.42632665e-01,\n",
       "         -2.39154232e-01,  6.49555948e-02,  2.61488397e-01,\n",
       "          4.31054943e-02,  8.46945672e-02,  2.38922797e-01,\n",
       "         -2.68943239e-01, -1.61932154e-01,  2.21603597e-01,\n",
       "         -8.84838750e-02,  3.76255471e-01, -1.45949991e-02,\n",
       "          2.84152086e-01,  1.60722351e-01,  1.09704446e-01],\n",
       "        [ 1.75510080e-01,  1.12091610e-01, -1.81055197e-01,\n",
       "         -2.94559983e-02,  9.96941700e-02,  1.36665292e-01,\n",
       "         -1.98369233e-01, -4.90208021e-02,  7.44490313e-03,\n",
       "         -1.97925401e-02,  1.36657044e-01, -1.08103700e-01,\n",
       "         -5.79739797e-02,  3.32338912e-02,  1.72643141e-01,\n",
       "          3.16900177e-02, -4.21016523e-02,  1.86877496e-01,\n",
       "         -2.10907650e-01, -8.63699529e-02,  1.81147356e-01,\n",
       "         -1.81271672e-01,  9.79396332e-02, -2.88248391e-02,\n",
       "          3.40028927e-01,  1.46438141e-01, -2.29591392e-02,\n",
       "         -1.78947621e-01, -1.45809607e-01,  3.27286888e-02],\n",
       "        [-1.22288753e-01,  3.04685319e-02, -1.84609699e-01,\n",
       "         -1.47275791e-01,  4.32449694e-03,  1.79894942e-02,\n",
       "         -2.02665838e-01, -1.50516345e-02, -1.67108190e-01,\n",
       "         -2.16123519e-01, -1.36622194e-01, -2.85781852e-02,\n",
       "         -2.27635608e-01,  2.76206214e-01, -9.89300214e-02,\n",
       "         -2.59855801e-02,  1.18816160e-01, -1.64940172e-01,\n",
       "          1.08282866e-01,  9.23557244e-02, -3.49956375e-02,\n",
       "         -4.01632432e-01, -2.19687443e-01, -5.37953173e-02,\n",
       "         -2.55281810e-01, -9.33609609e-02, -1.81318952e-01,\n",
       "          2.49868765e-01, -1.47938217e-01,  1.47392990e-02],\n",
       "        [ 1.33623511e-01,  2.56079582e-01,  1.89527126e-02,\n",
       "          2.30487821e-01,  1.78739769e-01, -1.27945151e-01,\n",
       "          6.61482254e-02,  3.32259653e-01,  1.40877543e-01,\n",
       "         -1.88826807e-01,  7.08040664e-02,  1.08260624e-01,\n",
       "          1.25986760e-02, -2.05502659e-01, -1.04974577e-01,\n",
       "          1.66066645e-01, -1.59193542e-01,  3.34110450e-01,\n",
       "         -8.77052083e-02, -4.99799959e-01, -7.23207844e-02,\n",
       "          2.04855315e-01, -6.22910301e-02,  4.80167326e-02,\n",
       "         -3.24707824e-01, -1.25032953e-01,  2.03613029e-02,\n",
       "         -3.08782800e-03,  7.05409844e-02,  1.21312280e-01],\n",
       "        [-5.65111665e-02,  4.17576559e-02,  2.08477794e-01,\n",
       "          2.73286059e-02, -1.98168236e-01,  9.09950650e-02,\n",
       "          9.87511440e-02, -9.58296065e-02, -2.05620833e-01,\n",
       "          1.18503822e-02,  5.75547027e-02, -1.76263178e-01,\n",
       "         -1.91756818e-01, -3.65200746e-02,  2.80646570e-01,\n",
       "          2.66706087e-01, -1.03962366e-01, -6.32846357e-02,\n",
       "          1.96944415e-01,  5.65250055e-02,  1.39175048e-01,\n",
       "          1.18962343e-01,  1.48479130e-01, -1.91235662e-01,\n",
       "         -1.73987872e-01, -1.75770350e-01, -8.77272823e-02,\n",
       "          1.16562415e-02, -7.59828834e-02, -1.25085663e-01],\n",
       "        [ 1.27535194e-01,  1.10839729e-01,  2.74913656e-01,\n",
       "         -2.35548168e-01,  2.37553096e-01,  1.61811496e-01,\n",
       "         -3.14298339e-01,  3.53722537e-02, -1.90415464e-01,\n",
       "          2.08140600e-02, -1.32033890e-01, -9.65044078e-03,\n",
       "          1.06534346e-01,  2.72022770e-01,  2.90492104e-01,\n",
       "         -3.09291625e-03,  2.29290669e-01,  1.66026810e-01,\n",
       "         -5.44841564e-02,  1.05089308e-01, -3.78479545e-02,\n",
       "          2.84353235e-01, -3.12480066e-01,  1.78934934e-01,\n",
       "         -2.70938470e-01, -1.77728054e-01, -2.80651018e-02,\n",
       "          2.18249788e-01, -2.44400158e-01,  2.05935311e-01],\n",
       "        [-5.02302551e-01,  7.18176630e-03, -2.04612160e-01,\n",
       "          3.33461569e-01, -7.02129990e-03,  6.07826906e-03,\n",
       "          4.21250105e-01, -1.96464387e-01,  1.86622942e-02,\n",
       "         -7.20060008e-02, -2.02436068e-01, -2.32510581e-02,\n",
       "          1.15980300e-01, -4.60688172e-02,  1.12199758e-01,\n",
       "         -9.68399377e-02,  1.85215336e-02, -8.36367411e-03,\n",
       "          9.06850192e-02,  7.42619633e-02, -2.88359966e-01,\n",
       "         -7.48520079e-02, -7.91423995e-02, -4.00825161e-02,\n",
       "         -2.36995171e-01, -3.85397451e-01, -4.89613857e-02,\n",
       "          3.01882013e-02, -1.26701081e-01,  6.94286581e-02],\n",
       "        [-1.78375200e-01,  7.93513968e-02,  2.46954262e-01,\n",
       "         -5.84757314e-02, -3.59745587e-02,  1.71091600e-01,\n",
       "          2.79089547e-02, -2.02189778e-01,  2.14926729e-01,\n",
       "         -1.28276819e-01,  7.99876849e-02,  5.20216922e-03,\n",
       "         -5.84197362e-02, -1.37076775e-01, -1.30441582e-01,\n",
       "          1.28550893e-01, -3.20225324e-02, -1.08228284e-01,\n",
       "          1.36875197e-01,  1.59305773e-01, -2.69305318e-02,\n",
       "         -1.28737831e-01,  1.45577663e-02,  8.33340658e-02,\n",
       "          4.32776414e-02, -6.95646338e-02,  6.01600249e-02,\n",
       "         -8.02720855e-02,  4.57412222e-02,  3.76584172e-02]]),\n",
       " 'b2': array([ 0.        ,  0.0237295 ,  0.02485567,  0.        ,  0.        ,\n",
       "         0.01912294,  0.        , -0.02583592,  0.0162516 , -0.00602813,\n",
       "         0.00720068, -0.02325997,  0.05415698,  0.00524908, -0.02977834,\n",
       "         0.        ,  0.01990111, -0.02612119,  0.        , -0.00638932,\n",
       "         0.04542233, -0.00466245,  0.        ,  0.04175489, -0.00790663,\n",
       "         0.01047692,  0.        , -0.00042737,  0.00236948,  0.00317219]),\n",
       " 'W1': array([[ 0.0661618 ,  0.22244921, -0.27998347, -0.11126119, -0.01141247,\n",
       "         -0.11840815, -0.02429298,  0.29431046, -0.22496019, -0.059088  ,\n",
       "         -0.05373724,  0.04315354, -0.12554007,  0.14949346,  0.2087027 ,\n",
       "          0.08237044, -0.02265628,  0.13964587,  0.02028089,  0.15859406],\n",
       "        [ 0.00733878,  0.03928286,  0.02404751,  0.14154248,  0.0374695 ,\n",
       "         -0.12609241,  0.01625188, -0.10368691,  0.0384092 ,  0.05238572,\n",
       "          0.0430549 ,  0.10913903, -0.11478369,  0.0458671 , -0.06042921,\n",
       "          0.01929133, -0.22236971,  0.11031388, -0.13230302, -0.16904405],\n",
       "        [-0.25122898,  0.00448449, -0.05256491,  0.08912503, -0.03270474,\n",
       "          0.2053833 ,  0.20315969,  0.25164481, -0.27081097,  0.14471857,\n",
       "         -0.10602295, -0.21175928,  0.0903125 ,  0.00501887,  0.00698426,\n",
       "          0.07508506, -0.39714048, -0.18166669, -0.11381251, -0.17760415],\n",
       "        [-0.30047285,  0.07859841,  0.13066625, -0.2243657 , -0.03034411,\n",
       "         -0.17835355, -0.33242218, -0.06444812,  0.07126782,  0.02576545,\n",
       "         -0.10284295, -0.04209683, -0.0368619 , -0.02016095,  0.04135159,\n",
       "          0.02625324, -0.04947878, -0.19898645, -0.03630061, -0.13537499],\n",
       "        [-0.17479415, -0.06361568, -0.06299806,  0.0570555 ,  0.14908155,\n",
       "         -0.04465953,  0.04257829, -0.09569442, -0.42602432,  0.10295454,\n",
       "         -0.18369763,  0.00996201, -0.24434865, -0.04406933, -0.10667675,\n",
       "         -0.28335375,  0.08431333, -0.01910715, -0.16380679,  0.02117616],\n",
       "        [-0.03642481, -0.18655209, -0.10812622,  0.03121185,  0.00422865,\n",
       "         -0.07038802,  0.02411922, -0.05517521,  0.07878592, -0.06824945,\n",
       "         -0.04504686, -0.12657523, -0.01452528,  0.13413257, -0.14189242,\n",
       "         -0.16525167, -0.04884749,  0.02841119, -0.06614643,  0.18742567],\n",
       "        [-0.15372827, -0.09866223, -0.00157886,  0.056846  ,  0.05506813,\n",
       "         -0.18686739, -0.13203088,  0.25508554, -0.37494185,  0.13856225,\n",
       "         -0.17596875,  0.02062226, -0.37830782, -0.25544167, -0.17366389,\n",
       "          0.31535387,  0.14335994, -0.13649804,  0.02130717, -0.11452307],\n",
       "        [-0.10363535, -0.00670202, -0.17969018, -0.10586174,  0.07089943,\n",
       "         -0.01790118,  0.09027896, -0.31971421, -0.1063504 , -0.25386954,\n",
       "         -0.29134613,  0.1034261 ,  0.30639997, -0.12868849,  0.06651701,\n",
       "         -0.288206  ,  0.16056856,  0.00911274,  0.15824734,  0.05701943],\n",
       "        [ 0.01692237,  0.3426044 , -0.12324679, -0.06604297, -0.12318568,\n",
       "         -0.15360803, -0.35892249, -0.0542844 ,  0.09685845, -0.08794568,\n",
       "          0.16224329, -0.17879446, -0.13096933,  0.14480869,  0.05866265,\n",
       "         -0.04090068,  0.09413285, -0.09832072, -0.06580147,  0.00387921],\n",
       "        [-0.09280554, -0.08855139,  0.09042612, -0.27399811, -0.03917209,\n",
       "          0.11654099,  0.17298055,  0.02529411, -0.05741957, -0.05178858,\n",
       "         -0.00666297,  0.00221088,  0.03575454, -0.10405653,  0.02488734,\n",
       "         -0.2563185 , -0.14668177, -0.09905249, -0.29692455, -0.17630799],\n",
       "        [ 0.09413138, -0.11896834, -0.18265973,  0.3866638 ,  0.2228411 ,\n",
       "         -0.16188275, -0.02657871, -0.06096383,  0.14417858,  0.14980012,\n",
       "          0.15408643, -0.02387773, -0.23306592, -0.01266853,  0.04981089,\n",
       "         -0.08305402,  0.11172596, -0.04964543,  0.01241701,  0.11518051],\n",
       "        [ 0.13287383, -0.06601867, -0.01919204, -0.28533859,  0.00476662,\n",
       "         -0.06010739,  0.2126911 , -0.20715561,  0.29699791, -0.19963973,\n",
       "         -0.19131335,  0.06263105, -0.02240537, -0.1036611 ,  0.09634019,\n",
       "          0.17380722, -0.48715536, -0.09288319,  0.07688206,  0.0677742 ],\n",
       "        [-0.0188492 ,  0.02128685, -0.25721855, -0.01817562,  0.06062063,\n",
       "          0.06280623,  0.03703726, -0.00898649,  0.06223704,  0.04264663,\n",
       "         -0.03711462,  0.16353411, -0.36319693,  0.24557886, -0.00595621,\n",
       "         -0.09648162,  0.18918983, -0.08147685,  0.30025042,  0.23986182],\n",
       "        [ 0.04326107,  0.29068638, -0.02026348,  0.13907095,  0.21168769,\n",
       "          0.12499457,  0.07988012, -0.07405815, -0.03466274, -0.15002369,\n",
       "         -0.26526899,  0.05166754,  0.12990482, -0.29046252,  0.12939739,\n",
       "         -0.20246108, -0.23463726, -0.21354827,  0.21323602,  0.12210343],\n",
       "        [-0.25910018,  0.17015801,  0.19861661,  0.45939872,  0.16414609,\n",
       "          0.06273424, -0.04811791,  0.358677  ,  0.14774608, -0.20728298,\n",
       "         -0.08668403,  0.14596546,  0.03152108,  0.25151523, -0.23095945,\n",
       "         -0.12215433,  0.40019641,  0.17055509, -0.02505356,  0.0038555 ]]),\n",
       " 'b1': array([ 1.30324102e-03,  5.78483574e-03,  9.94446280e-04,  5.92534933e-05,\n",
       "         7.64224266e-04,  6.23170787e-03, -1.85363240e-03,  3.84826030e-03,\n",
       "        -2.75656935e-03,  0.00000000e+00,  0.00000000e+00, -7.52962660e-03,\n",
       "         1.07570937e-02,  0.00000000e+00,  0.00000000e+00,  0.00000000e+00,\n",
       "         1.42462650e-03, -2.54731545e-05,  1.77722890e-03,  7.16013455e-03])}"
      ]
     },
     "execution_count": 39,
     "metadata": {},
     "output_type": "execute_result"
    }
   ],
   "source": [
    "grads"
   ]
  },
  {
   "cell_type": "markdown",
   "metadata": {},
   "source": [
    "As another sanity check, make sure you can overfit a small dataset of 50 images. First we will try a three-layer network with 100 units in each hidden layer. In the following cell, tweak the learning rate and initialization scale to overfit and achieve 100% training accuracy within 20 epochs."
   ]
  },
  {
   "cell_type": "code",
   "execution_count": 33,
   "metadata": {},
   "outputs": [
    {
     "name": "stdout",
     "output_type": "stream",
     "text": [
      "(Iteration 1 / 40) loss: 2.967868\n",
      "(Epoch 0 / 20) train acc: 0.260000; val_acc: 0.100000\n",
      "(Epoch 1 / 20) train acc: 0.380000; val_acc: 0.125000\n",
      "(Epoch 2 / 20) train acc: 0.520000; val_acc: 0.128000\n",
      "(Epoch 3 / 20) train acc: 0.580000; val_acc: 0.130000\n",
      "(Epoch 4 / 20) train acc: 0.700000; val_acc: 0.140000\n",
      "(Epoch 5 / 20) train acc: 0.760000; val_acc: 0.123000\n",
      "(Iteration 11 / 40) loss: 0.670846\n",
      "(Epoch 6 / 20) train acc: 0.820000; val_acc: 0.135000\n",
      "(Epoch 7 / 20) train acc: 0.920000; val_acc: 0.137000\n",
      "(Epoch 8 / 20) train acc: 0.940000; val_acc: 0.146000\n",
      "(Epoch 9 / 20) train acc: 0.920000; val_acc: 0.140000\n",
      "(Epoch 10 / 20) train acc: 0.940000; val_acc: 0.141000\n",
      "(Iteration 21 / 40) loss: 0.534323\n",
      "(Epoch 11 / 20) train acc: 1.000000; val_acc: 0.133000\n",
      "(Epoch 12 / 20) train acc: 1.000000; val_acc: 0.138000\n",
      "(Epoch 13 / 20) train acc: 1.000000; val_acc: 0.141000\n",
      "(Epoch 14 / 20) train acc: 1.000000; val_acc: 0.138000\n",
      "(Epoch 15 / 20) train acc: 0.980000; val_acc: 0.140000\n",
      "(Iteration 31 / 40) loss: 0.190952\n",
      "(Epoch 16 / 20) train acc: 1.000000; val_acc: 0.147000\n",
      "(Epoch 17 / 20) train acc: 1.000000; val_acc: 0.149000\n",
      "(Epoch 18 / 20) train acc: 1.000000; val_acc: 0.150000\n",
      "(Epoch 19 / 20) train acc: 1.000000; val_acc: 0.142000\n",
      "(Epoch 20 / 20) train acc: 1.000000; val_acc: 0.137000\n"
     ]
    }
   ],
   "source": [
    "# TODO: Use a three-layer Net to overfit 50 training examples by \n",
    "# tweaking just the learning rate and initialization scale.\n",
    "np.random.seed(231)\n",
    "\n",
    "num_train = 50\n",
    "small_data = {\n",
    "  'X_train': data['X_train'][:num_train],\n",
    "  'y_train': data['y_train'][:num_train],\n",
    "  'X_val': data['X_val'],\n",
    "  'y_val': data['y_val'],\n",
    "}\n",
    "\n",
    "weight_scale =2e-2\n",
    "learning_rate = 2e-3\n",
    "\n",
    "model_old = FullyConnectedNet_old([100, 100],\n",
    "              weight_scale=weight_scale, dtype=np.float64)\n",
    "solver_old = Solver(model_old, small_data,\n",
    "                print_every=10, num_epochs=20, batch_size=25,\n",
    "                update_rule='sgd',\n",
    "                optim_config={\n",
    "                  'learning_rate': learning_rate,\n",
    "                }\n",
    "         )\n",
    "solver_old.train()\n",
    "\n",
    "# plt.plot(solver.loss_history, 'o')\n",
    "# plt.title('Training loss history')\n",
    "# plt.xlabel('Iteration')\n",
    "# plt.ylabel('Training loss')\n",
    "# plt.show()"
   ]
  },
  {
   "cell_type": "code",
   "execution_count": 42,
   "metadata": {},
   "outputs": [
    {
     "name": "stdout",
     "output_type": "stream",
     "text": [
      "(Iteration 1 / 40) loss: 2.967868\n",
      "(Epoch 0 / 20) train acc: 0.260000; val_acc: 0.100000\n",
      "(Epoch 1 / 20) train acc: 0.240000; val_acc: 0.111000\n",
      "(Epoch 2 / 20) train acc: 0.260000; val_acc: 0.130000\n",
      "(Epoch 3 / 20) train acc: 0.380000; val_acc: 0.136000\n",
      "(Epoch 4 / 20) train acc: 0.440000; val_acc: 0.146000\n",
      "(Epoch 5 / 20) train acc: 0.440000; val_acc: 0.125000\n",
      "(Iteration 11 / 40) loss: 1.494360\n",
      "(Epoch 6 / 20) train acc: 0.340000; val_acc: 0.126000\n",
      "(Epoch 7 / 20) train acc: 0.500000; val_acc: 0.131000\n",
      "(Epoch 8 / 20) train acc: 0.520000; val_acc: 0.130000\n",
      "(Epoch 9 / 20) train acc: 0.540000; val_acc: 0.134000\n",
      "(Epoch 10 / 20) train acc: 0.600000; val_acc: 0.133000\n",
      "(Iteration 21 / 40) loss: 1.523729\n",
      "(Epoch 11 / 20) train acc: 0.620000; val_acc: 0.123000\n",
      "(Epoch 12 / 20) train acc: 0.660000; val_acc: 0.126000\n",
      "(Epoch 13 / 20) train acc: 0.660000; val_acc: 0.122000\n",
      "(Epoch 14 / 20) train acc: 0.620000; val_acc: 0.127000\n",
      "(Epoch 15 / 20) train acc: 0.660000; val_acc: 0.143000\n",
      "(Iteration 31 / 40) loss: 1.283789\n",
      "(Epoch 16 / 20) train acc: 0.640000; val_acc: 0.122000\n",
      "(Epoch 17 / 20) train acc: 0.680000; val_acc: 0.143000\n",
      "(Epoch 18 / 20) train acc: 0.700000; val_acc: 0.141000\n",
      "(Epoch 19 / 20) train acc: 0.640000; val_acc: 0.117000\n",
      "(Epoch 20 / 20) train acc: 0.700000; val_acc: 0.127000\n"
     ]
    }
   ],
   "source": [
    "np.random.seed(231)\n",
    "\n",
    "weight_scale =2e-2\n",
    "learning_rate = 2e-3\n",
    "model = FullyConnectedNet([100, 100],\n",
    "              weight_scale=weight_scale, dtype=np.float64)\n",
    "solver = Solver(model, small_data,\n",
    "                print_every=10, num_epochs=2, batch_size=25,\n",
    "                update_rule='sgd',\n",
    "                optim_config={\n",
    "                  'learning_rate': learning_rate,\n",
    "                }\n",
    "         )\n",
    "solver.train()"
   ]
  },
  {
   "cell_type": "code",
   "execution_count": 30,
   "metadata": {},
   "outputs": [
    {
     "data": {
      "text/plain": [
       "[2.967868435316559,\n",
       " 2.2160499791534765,\n",
       " 1.7530997390803433,\n",
       " 1.3289361762193985,\n",
       " 1.325811187530053,\n",
       " 1.535129494349103,\n",
       " 1.2610886775601795,\n",
       " 0.9526079624344362,\n",
       " 0.8554773369646635,\n",
       " 0.7668709122440373]"
      ]
     },
     "execution_count": 30,
     "metadata": {},
     "output_type": "execute_result"
    }
   ],
   "source": [
    "solver_old.loss_history[:10] "
   ]
  },
  {
   "cell_type": "code",
   "execution_count": 31,
   "metadata": {},
   "outputs": [
    {
     "data": {
      "text/plain": [
       "[2.967868435316559,\n",
       " 2.2160499791534765,\n",
       " 1.7530997390803433,\n",
       " 1.3289361762193985,\n",
       " 1.325811187530053,\n",
       " 1.535129494349103,\n",
       " 1.2610886775601795,\n",
       " 0.9526079624344362,\n",
       " 0.8554773369646635,\n",
       " 0.7668709122440373]"
      ]
     },
     "execution_count": 31,
     "metadata": {},
     "output_type": "execute_result"
    }
   ],
   "source": [
    "solver.loss_history[:10]"
   ]
  },
  {
   "cell_type": "code",
   "execution_count": null,
   "metadata": {},
   "outputs": [],
   "source": []
  },
  {
   "cell_type": "markdown",
   "metadata": {},
   "source": [
    "Now try to use a five-layer network with 100 units on each layer to overfit 50 training examples. Again you will have to adjust the learning rate and weight initialization, but you should be able to achieve 100% training accuracy within 20 epochs."
   ]
  },
  {
   "cell_type": "code",
   "execution_count": 480,
   "metadata": {},
   "outputs": [
    {
     "name": "stdout",
     "output_type": "stream",
     "text": [
      "(Iteration 1 / 40) loss: 155.087589\n",
      "(Epoch 0 / 20) train acc: 0.120000; val_acc: 0.091000\n",
      "(Epoch 1 / 20) train acc: 0.120000; val_acc: 0.103000\n",
      "(Epoch 2 / 20) train acc: 0.140000; val_acc: 0.085000\n",
      "(Epoch 3 / 20) train acc: 0.160000; val_acc: 0.097000\n",
      "(Epoch 4 / 20) train acc: 0.140000; val_acc: 0.103000\n",
      "(Epoch 5 / 20) train acc: 0.200000; val_acc: 0.111000\n",
      "(Iteration 11 / 40) loss: 71.647171\n",
      "(Epoch 6 / 20) train acc: 0.200000; val_acc: 0.109000\n",
      "(Epoch 7 / 20) train acc: 0.200000; val_acc: 0.107000\n",
      "(Epoch 8 / 20) train acc: 0.220000; val_acc: 0.111000\n",
      "(Epoch 9 / 20) train acc: 0.160000; val_acc: 0.111000\n",
      "(Epoch 10 / 20) train acc: 0.220000; val_acc: 0.112000\n",
      "(Iteration 21 / 40) loss: 45.745062\n",
      "(Epoch 11 / 20) train acc: 0.200000; val_acc: 0.114000\n",
      "(Epoch 12 / 20) train acc: 0.180000; val_acc: 0.092000\n",
      "(Epoch 13 / 20) train acc: 0.160000; val_acc: 0.088000\n",
      "(Epoch 14 / 20) train acc: 0.220000; val_acc: 0.103000\n",
      "(Epoch 15 / 20) train acc: 0.240000; val_acc: 0.093000\n",
      "(Iteration 31 / 40) loss: 42.758714\n",
      "(Epoch 16 / 20) train acc: 0.220000; val_acc: 0.099000\n",
      "(Epoch 17 / 20) train acc: 0.240000; val_acc: 0.113000\n",
      "(Epoch 18 / 20) train acc: 0.200000; val_acc: 0.106000\n",
      "(Epoch 19 / 20) train acc: 0.220000; val_acc: 0.109000\n",
      "(Epoch 20 / 20) train acc: 0.200000; val_acc: 0.116000\n"
     ]
    },
    {
     "data": {
      "image/png": "[encoded data removed]",
      "text/plain": [
       "<Figure size 720x576 with 1 Axes>"
      ]
     },
     "metadata": {},
     "output_type": "display_data"
    }
   ],
   "source": [
    "# TODO: Use a five-layer Net to overfit 50 training examples by \n",
    "# tweaking just the learning rate and initialization scale.\n",
    "\n",
    "num_train = 50\n",
    "small_data = {\n",
    "  'X_train': data['X_train'][:num_train],\n",
    "  'y_train': data['y_train'][:num_train],\n",
    "  'X_val': data['X_val'],\n",
    "  'y_val': data['y_val'],\n",
    "}\n",
    "\n",
    "learning_rate = 2e-4\n",
    "weight_scale = 1e-1\n",
    "model = FullyConnectedNet([100, 100, 100, 100],\n",
    "                weight_scale=weight_scale, dtype=np.float64)\n",
    "solver = Solver(model, small_data,\n",
    "                print_every=10, num_epochs=20, batch_size=25,\n",
    "                update_rule='sgd',\n",
    "                optim_config={\n",
    "                  'learning_rate': learning_rate,\n",
    "                }\n",
    "         )\n",
    "solver.train()\n",
    "\n",
    "plt.plot(solver.loss_history, 'o')\n",
    "plt.title('Training loss history')\n",
    "plt.xlabel('Iteration')\n",
    "plt.ylabel('Training loss')\n",
    "plt.show()"
   ]
  },
  {
   "cell_type": "markdown",
   "metadata": {},
   "source": [
    "## Inline Question 2: \n",
    "Did you notice anything about the comparative difficulty of training the three-layer net vs training the five layer net? In particular, based on your experience, which network seemed more sensitive to the initialization scale? Why do you think that is the case?"
   ]
  },
  {
   "cell_type": "markdown",
   "metadata": {},
   "source": [
    "## Answer:\n",
    "[FILL THIS IN]\n"
   ]
  },
  {
   "cell_type": "markdown",
   "metadata": {},
   "source": [
    "# Update rules\n",
    "So far we have used vanilla stochastic gradient descent (SGD) as our update rule. More sophisticated update rules can make it easier to train deep networks. We will implement a few of the most commonly used update rules and compare them to vanilla SGD."
   ]
  },
  {
   "cell_type": "markdown",
   "metadata": {},
   "source": [
    "# SGD+Momentum\n",
    "Stochastic gradient descent with momentum is a widely used update rule that tends to make deep networks converge faster than vanilla stochastic gradient descent. See the Momentum Update section at http://cs231n.github.io/neural-networks-3/#sgd for more information.\n",
    "\n",
    "Open the file `cs231n/optim.py` and read the documentation at the top of the file to make sure you understand the API. Implement the SGD+momentum update rule in the function `sgd_momentum` and run the following to check your implementation. You should see errors less than e-8."
   ]
  },
  {
   "cell_type": "code",
   "execution_count": 237,
   "metadata": {},
   "outputs": [
    {
     "name": "stdout",
     "output_type": "stream",
     "text": [
      "next_w error:  8.882347033505819e-09\n",
      "velocity error:  4.269287743278663e-09\n"
     ]
    }
   ],
   "source": [
    "from cs231n.optim import sgd_momentum\n",
    "\n",
    "N, D = 4, 5\n",
    "w = np.linspace(-0.4, 0.6, num=N*D).reshape(N, D)\n",
    "dw = np.linspace(-0.6, 0.4, num=N*D).reshape(N, D)\n",
    "v = np.linspace(0.6, 0.9, num=N*D).reshape(N, D)\n",
    "\n",
    "config = {'learning_rate': 1e-3, 'velocity': v}\n",
    "next_w, _ = sgd_momentum(w, dw, config=config)\n",
    "\n",
    "expected_next_w = np.asarray([\n",
    "  [ 0.1406,      0.20738947,  0.27417895,  0.34096842,  0.40775789],\n",
    "  [ 0.47454737,  0.54133684,  0.60812632,  0.67491579,  0.74170526],\n",
    "  [ 0.80849474,  0.87528421,  0.94207368,  1.00886316,  1.07565263],\n",
    "  [ 1.14244211,  1.20923158,  1.27602105,  1.34281053,  1.4096    ]])\n",
    "expected_velocity = np.asarray([\n",
    "  [ 0.5406,      0.55475789,  0.56891579, 0.58307368,  0.59723158],\n",
    "  [ 0.61138947,  0.62554737,  0.63970526,  0.65386316,  0.66802105],\n",
    "  [ 0.68217895,  0.69633684,  0.71049474,  0.72465263,  0.73881053],\n",
    "  [ 0.75296842,  0.76712632,  0.78128421,  0.79544211,  0.8096    ]])\n",
    "\n",
    "# Should see relative errors around e-8 or less\n",
    "print('next_w error: ', rel_error(next_w, expected_next_w))\n",
    "print('velocity error: ', rel_error(expected_velocity, config['velocity']))"
   ]
  },
  {
   "cell_type": "markdown",
   "metadata": {},
   "source": [
    "Once you have done so, run the following to train a six-layer network with both SGD and SGD+momentum. You should see the SGD+momentum update rule converge faster."
   ]
  },
  {
   "cell_type": "code",
   "execution_count": 238,
   "metadata": {
    "scrolled": false
   },
   "outputs": [
    {
     "name": "stdout",
     "output_type": "stream",
     "text": [
      "running with  sgd\n",
      "(Iteration 1 / 200) loss: 2.581715\n",
      "(Epoch 0 / 5) train acc: 0.111000; val_acc: 0.091000\n",
      "(Iteration 11 / 200) loss: 2.310867\n",
      "(Iteration 21 / 200) loss: 2.040249\n",
      "(Iteration 31 / 200) loss: 1.943914\n",
      "(Epoch 1 / 5) train acc: 0.267000; val_acc: 0.243000\n",
      "(Iteration 41 / 200) loss: 2.003020\n",
      "(Iteration 51 / 200) loss: 1.978246\n",
      "(Iteration 61 / 200) loss: 2.002126\n",
      "(Iteration 71 / 200) loss: 1.911245\n",
      "(Epoch 2 / 5) train acc: 0.303000; val_acc: 0.286000\n",
      "(Iteration 81 / 200) loss: 1.874247\n",
      "(Iteration 91 / 200) loss: 1.729638\n",
      "(Iteration 101 / 200) loss: 1.818317\n",
      "(Iteration 111 / 200) loss: 1.783509\n",
      "(Epoch 3 / 5) train acc: 0.391000; val_acc: 0.313000\n",
      "(Iteration 121 / 200) loss: 1.637703\n",
      "(Iteration 131 / 200) loss: 1.667452\n",
      "(Iteration 141 / 200) loss: 1.748681\n",
      "(Iteration 151 / 200) loss: 1.844507\n",
      "(Epoch 4 / 5) train acc: 0.405000; val_acc: 0.315000\n",
      "(Iteration 161 / 200) loss: 1.635738\n",
      "(Iteration 171 / 200) loss: 1.542242\n",
      "(Iteration 181 / 200) loss: 1.604863\n",
      "(Iteration 191 / 200) loss: 1.846427\n",
      "(Epoch 5 / 5) train acc: 0.403000; val_acc: 0.345000\n",
      "\n",
      "running with  sgd_momentum\n",
      "(Iteration 1 / 200) loss: 2.505535\n",
      "(Epoch 0 / 5) train acc: 0.104000; val_acc: 0.096000\n",
      "(Iteration 11 / 200) loss: 2.160685\n",
      "(Iteration 21 / 200) loss: 2.113365\n",
      "(Iteration 31 / 200) loss: 1.926308\n",
      "(Epoch 1 / 5) train acc: 0.318000; val_acc: 0.292000\n",
      "(Iteration 41 / 200) loss: 1.888920\n",
      "(Iteration 51 / 200) loss: 1.714613\n",
      "(Iteration 61 / 200) loss: 1.850333\n",
      "(Iteration 71 / 200) loss: 1.640746\n",
      "(Epoch 2 / 5) train acc: 0.429000; val_acc: 0.318000\n",
      "(Iteration 81 / 200) loss: 1.588946\n",
      "(Iteration 91 / 200) loss: 1.626652\n",
      "(Iteration 101 / 200) loss: 1.694299\n",
      "(Iteration 111 / 200) loss: 1.644569\n",
      "(Epoch 3 / 5) train acc: 0.451000; val_acc: 0.343000\n",
      "(Iteration 121 / 200) loss: 1.345076\n",
      "(Iteration 131 / 200) loss: 1.424648\n",
      "(Iteration 141 / 200) loss: 1.574147\n",
      "(Iteration 151 / 200) loss: 1.553008\n",
      "(Epoch 4 / 5) train acc: 0.487000; val_acc: 0.344000\n",
      "(Iteration 161 / 200) loss: 1.595765\n",
      "(Iteration 171 / 200) loss: 1.311420\n",
      "(Iteration 181 / 200) loss: 1.403357\n",
      "(Iteration 191 / 200) loss: 1.614106\n",
      "(Epoch 5 / 5) train acc: 0.526000; val_acc: 0.329000\n",
      "\n"
     ]
    },
    {
     "name": "stderr",
     "output_type": "stream",
     "text": [
      "/home/yulits/environments/my_env/lib/python3.6/site-packages/matplotlib/cbook/deprecation.py:107: MatplotlibDeprecationWarning: Adding an axes using the same arguments as a previous axes currently reuses the earlier instance.  In a future version, a new instance will always be created and returned.  Meanwhile, this warning can be suppressed, and the future behavior ensured, by passing a unique label to each axes instance.\n",
      "  warnings.warn(message, mplDeprecation, stacklevel=1)\n"
     ]
    },
    {
     "data": {
      "image/png": "[encoded data removed]",
      "text/plain": [
       "<Figure size 1080x1080 with 3 Axes>"
      ]
     },
     "metadata": {},
     "output_type": "display_data"
    }
   ],
   "source": [
    "num_train = 4000\n",
    "small_data = {\n",
    "  'X_train': data['X_train'][:num_train],\n",
    "  'y_train': data['y_train'][:num_train],\n",
    "  'X_val': data['X_val'],\n",
    "  'y_val': data['y_val'],\n",
    "}\n",
    "\n",
    "solvers = {}\n",
    "\n",
    "for update_rule in ['sgd', 'sgd_momentum']:\n",
    "  print('running with ', update_rule)\n",
    "  model = FullyConnectedNet([100, 100, 100, 100, 100], weight_scale=5e-2)\n",
    "\n",
    "  solver = Solver(model, small_data,\n",
    "                  num_epochs=5, batch_size=100,\n",
    "                  update_rule=update_rule,\n",
    "                  optim_config={\n",
    "                    'learning_rate': 1e-2,\n",
    "                  },\n",
    "                  verbose=True)\n",
    "  solvers[update_rule] = solver\n",
    "  solver.train()\n",
    "  print()\n",
    "\n",
    "plt.subplot(3, 1, 1)\n",
    "plt.title('Training loss')\n",
    "plt.xlabel('Iteration')\n",
    "\n",
    "plt.subplot(3, 1, 2)\n",
    "plt.title('Training accuracy')\n",
    "plt.xlabel('Epoch')\n",
    "\n",
    "plt.subplot(3, 1, 3)\n",
    "plt.title('Validation accuracy')\n",
    "plt.xlabel('Epoch')\n",
    "\n",
    "for update_rule, solver in list(solvers.items()):\n",
    "  plt.subplot(3, 1, 1)\n",
    "  plt.plot(solver.loss_history, 'o', label=update_rule)\n",
    "  \n",
    "  plt.subplot(3, 1, 2)\n",
    "  plt.plot(solver.train_acc_history, '-o', label=update_rule)\n",
    "\n",
    "  plt.subplot(3, 1, 3)\n",
    "  plt.plot(solver.val_acc_history, '-o', label=update_rule)\n",
    "  \n",
    "for i in [1, 2, 3]:\n",
    "  plt.subplot(3, 1, i)\n",
    "  plt.legend(loc='upper center', ncol=4)\n",
    "plt.gcf().set_size_inches(15, 15)\n",
    "plt.show()"
   ]
  },
  {
   "cell_type": "markdown",
   "metadata": {},
   "source": [
    "# RMSProp and Adam\n",
    "RMSProp [1] and Adam [2] are update rules that set per-parameter learning rates by using a running average of the second moments of gradients.\n",
    "\n",
    "In the file `cs231n/optim.py`, implement the RMSProp update rule in the `rmsprop` function and implement the Adam update rule in the `adam` function, and check your implementations using the tests below.\n",
    "\n",
    "**NOTE:** Please implement the _complete_ Adam update rule (with the bias correction mechanism), not the first simplified version mentioned in the course notes. \n",
    "\n",
    "[1] Tijmen Tieleman and Geoffrey Hinton. \"Lecture 6.5-rmsprop: Divide the gradient by a running average of its recent magnitude.\" COURSERA: Neural Networks for Machine Learning 4 (2012).\n",
    "\n",
    "[2] Diederik Kingma and Jimmy Ba, \"Adam: A Method for Stochastic Optimization\", ICLR 2015."
   ]
  },
  {
   "cell_type": "code",
   "execution_count": 239,
   "metadata": {},
   "outputs": [
    {
     "name": "stdout",
     "output_type": "stream",
     "text": [
      "next_w error:  9.524687511038133e-08\n",
      "cache error:  2.6477955807156126e-09\n"
     ]
    }
   ],
   "source": [
    "# Test RMSProp implementation\n",
    "from cs231n.optim import rmsprop\n",
    "\n",
    "N, D = 4, 5\n",
    "w = np.linspace(-0.4, 0.6, num=N*D).reshape(N, D)\n",
    "dw = np.linspace(-0.6, 0.4, num=N*D).reshape(N, D)\n",
    "cache = np.linspace(0.6, 0.9, num=N*D).reshape(N, D)\n",
    "\n",
    "config = {'learning_rate': 1e-2, 'cache': cache}\n",
    "next_w, _ = rmsprop(w, dw, config=config)\n",
    "\n",
    "expected_next_w = np.asarray([\n",
    "  [-0.39223849, -0.34037513, -0.28849239, -0.23659121, -0.18467247],\n",
    "  [-0.132737,   -0.08078555, -0.02881884,  0.02316247,  0.07515774],\n",
    "  [ 0.12716641,  0.17918792,  0.23122175,  0.28326742,  0.33532447],\n",
    "  [ 0.38739248,  0.43947102,  0.49155973,  0.54365823,  0.59576619]])\n",
    "expected_cache = np.asarray([\n",
    "  [ 0.5976,      0.6126277,   0.6277108,   0.64284931,  0.65804321],\n",
    "  [ 0.67329252,  0.68859723,  0.70395734,  0.71937285,  0.73484377],\n",
    "  [ 0.75037008,  0.7659518,   0.78158892,  0.79728144,  0.81302936],\n",
    "  [ 0.82883269,  0.84469141,  0.86060554,  0.87657507,  0.8926    ]])\n",
    "\n",
    "# You should see relative errors around e-7 or less\n",
    "print('next_w error: ', rel_error(expected_next_w, next_w))\n",
    "print('cache error: ', rel_error(expected_cache, config['cache']))"
   ]
  },
  {
   "cell_type": "code",
   "execution_count": 240,
   "metadata": {},
   "outputs": [
    {
     "name": "stdout",
     "output_type": "stream",
     "text": [
      "next_w error:  1.1395691798535431e-07\n",
      "v error:  4.208314038113071e-09\n",
      "m error:  4.214963193114416e-09\n"
     ]
    }
   ],
   "source": [
    "# Test Adam implementation\n",
    "from cs231n.optim import adam\n",
    "\n",
    "N, D = 4, 5\n",
    "w = np.linspace(-0.4, 0.6, num=N*D).reshape(N, D)\n",
    "dw = np.linspace(-0.6, 0.4, num=N*D).reshape(N, D)\n",
    "m = np.linspace(0.6, 0.9, num=N*D).reshape(N, D)\n",
    "v = np.linspace(0.7, 0.5, num=N*D).reshape(N, D)\n",
    "\n",
    "config = {'learning_rate': 1e-2, 'm': m, 'v': v, 't': 5}\n",
    "next_w, _ = adam(w, dw, config=config)\n",
    "\n",
    "expected_next_w = np.asarray([\n",
    "  [-0.40094747, -0.34836187, -0.29577703, -0.24319299, -0.19060977],\n",
    "  [-0.1380274,  -0.08544591, -0.03286534,  0.01971428,  0.0722929],\n",
    "  [ 0.1248705,   0.17744702,  0.23002243,  0.28259667,  0.33516969],\n",
    "  [ 0.38774145,  0.44031188,  0.49288093,  0.54544852,  0.59801459]])\n",
    "expected_v = np.asarray([\n",
    "  [ 0.69966,     0.68908382,  0.67851319,  0.66794809,  0.65738853,],\n",
    "  [ 0.64683452,  0.63628604,  0.6257431,   0.61520571,  0.60467385,],\n",
    "  [ 0.59414753,  0.58362676,  0.57311152,  0.56260183,  0.55209767,],\n",
    "  [ 0.54159906,  0.53110598,  0.52061845,  0.51013645,  0.49966,   ]])\n",
    "expected_m = np.asarray([\n",
    "  [ 0.48,        0.49947368,  0.51894737,  0.53842105,  0.55789474],\n",
    "  [ 0.57736842,  0.59684211,  0.61631579,  0.63578947,  0.65526316],\n",
    "  [ 0.67473684,  0.69421053,  0.71368421,  0.73315789,  0.75263158],\n",
    "  [ 0.77210526,  0.79157895,  0.81105263,  0.83052632,  0.85      ]])\n",
    "\n",
    "# You should see relative errors around e-7 or less\n",
    "print('next_w error: ', rel_error(expected_next_w, next_w))\n",
    "print('v error: ', rel_error(expected_v, config['v']))\n",
    "print('m error: ', rel_error(expected_m, config['m']))"
   ]
  },
  {
   "cell_type": "markdown",
   "metadata": {},
   "source": [
    "Once you have debugged your RMSProp and Adam implementations, run the following to train a pair of deep networks using these new update rules:"
   ]
  },
  {
   "cell_type": "code",
   "execution_count": 242,
   "metadata": {},
   "outputs": [
    {
     "name": "stdout",
     "output_type": "stream",
     "text": [
      "running with  adam\n",
      "(Iteration 1 / 200) loss: 2.718277\n",
      "(Epoch 0 / 5) train acc: 0.132000; val_acc: 0.105000\n",
      "(Iteration 11 / 200) loss: 2.141447\n",
      "(Iteration 21 / 200) loss: 1.778474\n",
      "(Iteration 31 / 200) loss: 1.826376\n",
      "(Epoch 1 / 5) train acc: 0.372000; val_acc: 0.329000\n",
      "(Iteration 41 / 200) loss: 1.786390\n",
      "(Iteration 51 / 200) loss: 1.808681\n",
      "(Iteration 61 / 200) loss: 1.605577\n",
      "(Iteration 71 / 200) loss: 1.615480\n",
      "(Epoch 2 / 5) train acc: 0.433000; val_acc: 0.362000\n",
      "(Iteration 81 / 200) loss: 1.648826\n",
      "(Iteration 91 / 200) loss: 1.552527\n",
      "(Iteration 101 / 200) loss: 1.416849\n",
      "(Iteration 111 / 200) loss: 1.588063\n",
      "(Epoch 3 / 5) train acc: 0.472000; val_acc: 0.330000\n",
      "(Iteration 121 / 200) loss: 1.418016\n",
      "(Iteration 131 / 200) loss: 1.416372\n",
      "(Iteration 141 / 200) loss: 1.404526\n",
      "(Iteration 151 / 200) loss: 1.222809\n",
      "(Epoch 4 / 5) train acc: 0.577000; val_acc: 0.372000\n",
      "(Iteration 161 / 200) loss: 1.345118\n",
      "(Iteration 171 / 200) loss: 1.263769\n",
      "(Iteration 181 / 200) loss: 1.404211\n",
      "(Iteration 191 / 200) loss: 1.120577\n",
      "(Epoch 5 / 5) train acc: 0.580000; val_acc: 0.357000\n",
      "\n",
      "running with  rmsprop\n",
      "(Iteration 1 / 200) loss: 2.629203\n",
      "(Epoch 0 / 5) train acc: 0.133000; val_acc: 0.143000\n",
      "(Iteration 11 / 200) loss: 2.100129\n",
      "(Iteration 21 / 200) loss: 1.952606\n",
      "(Iteration 31 / 200) loss: 1.920164\n",
      "(Epoch 1 / 5) train acc: 0.380000; val_acc: 0.280000\n",
      "(Iteration 41 / 200) loss: 1.924418\n",
      "(Iteration 51 / 200) loss: 1.812719\n",
      "(Iteration 61 / 200) loss: 1.695039\n",
      "(Iteration 71 / 200) loss: 1.463333\n",
      "(Epoch 2 / 5) train acc: 0.451000; val_acc: 0.323000\n",
      "(Iteration 81 / 200) loss: 1.766497\n",
      "(Iteration 91 / 200) loss: 1.700175\n",
      "(Iteration 101 / 200) loss: 1.586122\n",
      "(Iteration 111 / 200) loss: 1.499547\n",
      "(Epoch 3 / 5) train acc: 0.446000; val_acc: 0.338000\n",
      "(Iteration 121 / 200) loss: 1.577921\n",
      "(Iteration 131 / 200) loss: 1.619630\n",
      "(Iteration 141 / 200) loss: 1.546298\n",
      "(Iteration 151 / 200) loss: 1.457371\n",
      "(Epoch 4 / 5) train acc: 0.489000; val_acc: 0.349000\n",
      "(Iteration 161 / 200) loss: 1.434885\n",
      "(Iteration 171 / 200) loss: 1.496596\n",
      "(Iteration 181 / 200) loss: 1.493453\n",
      "(Iteration 191 / 200) loss: 1.497182\n",
      "(Epoch 5 / 5) train acc: 0.538000; val_acc: 0.348000\n",
      "\n"
     ]
    }
   ],
   "source": [
    "learning_rates = {'rmsprop': 1e-4, 'adam': 1e-3}\n",
    "for update_rule in ['adam', 'rmsprop']:\n",
    "  print('running with ', update_rule)\n",
    "  model = FullyConnectedNet([100, 100, 100, 100, 100], weight_scale=5e-2)\n",
    "\n",
    "  solver = Solver(model, small_data,\n",
    "                  num_epochs=5, batch_size=100,\n",
    "                  update_rule=update_rule,\n",
    "                  optim_config={\n",
    "                    'learning_rate': learning_rates[update_rule]\n",
    "                  },\n",
    "                  verbose=True)\n",
    "  solvers[update_rule] = solver\n",
    "  solver.train()\n",
    "  print()\n"
   ]
  },
  {
   "cell_type": "code",
   "execution_count": 243,
   "metadata": {},
   "outputs": [
    {
     "name": "stderr",
     "output_type": "stream",
     "text": [
      "/home/yulits/environments/my_env/lib/python3.6/site-packages/matplotlib/cbook/deprecation.py:107: MatplotlibDeprecationWarning: Adding an axes using the same arguments as a previous axes currently reuses the earlier instance.  In a future version, a new instance will always be created and returned.  Meanwhile, this warning can be suppressed, and the future behavior ensured, by passing a unique label to each axes instance.\n",
      "  warnings.warn(message, mplDeprecation, stacklevel=1)\n"
     ]
    },
    {
     "data": {
      "image/png": "[encoded data removed]",
      "text/plain": [
       "<Figure size 1080x1080 with 3 Axes>"
      ]
     },
     "metadata": {},
     "output_type": "display_data"
    }
   ],
   "source": [
    "plt.subplot(3, 1, 1)\n",
    "plt.title('Training loss')\n",
    "plt.xlabel('Iteration')\n",
    "\n",
    "plt.subplot(3, 1, 2)\n",
    "plt.title('Training accuracy')\n",
    "plt.xlabel('Epoch')\n",
    "\n",
    "plt.subplot(3, 1, 3)\n",
    "plt.title('Validation accuracy')\n",
    "plt.xlabel('Epoch')\n",
    "\n",
    "for update_rule, solver in list(solvers.items()):\n",
    "  plt.subplot(3, 1, 1)\n",
    "  plt.plot(solver.loss_history, 'o', label=update_rule)\n",
    "  \n",
    "  plt.subplot(3, 1, 2)\n",
    "  plt.plot(solver.train_acc_history, '-o', label=update_rule)\n",
    "\n",
    "  plt.subplot(3, 1, 3)\n",
    "  plt.plot(solver.val_acc_history, '-o', label=update_rule)\n",
    "  \n",
    "for i in [1, 2, 3]:\n",
    "  plt.subplot(3, 1, i)\n",
    "  plt.legend(loc='upper center', ncol=4)\n",
    "plt.gcf().set_size_inches(15, 15)\n",
    "plt.show()"
   ]
  },
  {
   "cell_type": "markdown",
   "metadata": {},
   "source": [
    "## Inline Question 3:\n",
    "\n",
    "AdaGrad, like Adam, is a per-parameter optimization method that uses the following update rule:\n",
    "\n",
    "```\n",
    "cache += dw**2\n",
    "w += - learning_rate * dw / (np.sqrt(cache) + eps)\n",
    "```\n",
    "\n",
    "John notices that when he was training a network with AdaGrad that the updates became very small, and that his network was learning slowly. Using your knowledge of the AdaGrad update rule, why do you think the updates would become very small? Would Adam have the same issue?\n"
   ]
  },
  {
   "cell_type": "markdown",
   "metadata": {},
   "source": [
    "## Answer: \n",
    "\n",
    "Updates would become very small if gradients are very high.\n",
    "No, because squared gradient is multiplied by very small value (1 - beta2) (where beta2 is usually equal 0.999)"
   ]
  },
  {
   "cell_type": "markdown",
   "metadata": {},
   "source": [
    "# Train a good model!\n",
    "Train the best fully-connected model that you can on CIFAR-10, storing your best model in the `best_model` variable. We require you to get at least 50% accuracy on the validation set using a fully-connected net.\n",
    "\n",
    "If you are careful it should be possible to get accuracies above 55%, but we don't require it for this part and won't assign extra credit for doing so. Later in the assignment we will ask you to train the best convolutional network that you can on CIFAR-10, and we would prefer that you spend your effort working on convolutional nets rather than fully-connected nets.\n",
    "\n",
    "You might find it useful to complete the `BatchNormalization.ipynb` and `Dropout.ipynb` notebooks before completing this part, since those techniques can help you train powerful models."
   ]
  },
  {
   "cell_type": "code",
   "execution_count": null,
   "metadata": {
    "collapsed": true,
    "scrolled": false
   },
   "outputs": [],
   "source": [
    "best_model = None\n",
    "################################################################################\n",
    "# TODO: Train the best FullyConnectedNet that you can on CIFAR-10. You might   #\n",
    "# find batch/layer normalization and dropout useful. Store your best model in  #\n",
    "# the best_model variable.                                                     #\n",
    "################################################################################\n",
    "pass\n",
    "################################################################################\n",
    "#                              END OF YOUR CODE                                #\n",
    "################################################################################"
   ]
  },
  {
   "cell_type": "markdown",
   "metadata": {},
   "source": [
    "# Test your model!\n",
    "Run your best model on the validation and test sets. You should achieve above 50% accuracy on the validation set."
   ]
  },
  {
   "cell_type": "code",
   "execution_count": null,
   "metadata": {
    "collapsed": true
   },
   "outputs": [],
   "source": [
    "y_test_pred = np.argmax(best_model.loss(data['X_test']), axis=1)\n",
    "y_val_pred = np.argmax(best_model.loss(data['X_val']), axis=1)\n",
    "print('Validation set accuracy: ', (y_val_pred == data['y_val']).mean())\n",
    "print('Test set accuracy: ', (y_test_pred == data['y_test']).mean())"
   ]
  }
 ],
 "metadata": {
  "kernelspec": {
   "display_name": "Python 3",
   "language": "python",
   "name": "python3"
  },
  "language_info": {
   "codemirror_mode": {
    "name": "ipython",
    "version": 3
   },
   "file_extension": ".py",
   "mimetype": "text/x-python",
   "name": "python",
   "nbconvert_exporter": "python",
   "pygments_lexer": "ipython3",
   "version": "3.6.5"
  }
 },
 "nbformat": 4,
 "nbformat_minor": 2
}
