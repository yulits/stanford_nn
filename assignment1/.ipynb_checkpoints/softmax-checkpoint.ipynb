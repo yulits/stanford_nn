{
 "cells": [
  {
   "cell_type": "markdown",
   "metadata": {},
   "source": [
    "# Softmax exercise\n",
    "\n",
    "*Complete and hand in this completed worksheet (including its outputs and any supporting code outside of the worksheet) with your assignment submission. For more details see the [assignments page](http://vision.stanford.edu/teaching/cs231n/assignments.html) on the course website.*\n",
    "\n",
    "This exercise is analogous to the SVM exercise. You will:\n",
    "\n",
    "- implement a fully-vectorized **loss function** for the Softmax classifier\n",
    "- implement the fully-vectorized expression for its **analytic gradient**\n",
    "- **check your implementation** with numerical gradient\n",
    "- use a validation set to **tune the learning rate and regularization** strength\n",
    "- **optimize** the loss function with **SGD**\n",
    "- **visualize** the final learned weights\n"
   ]
  },
  {
   "cell_type": "code",
   "execution_count": 1,
   "metadata": {},
   "outputs": [],
   "source": [
    "import random\n",
    "import numpy as np\n",
    "from cs231n.data_utils import load_CIFAR10\n",
    "import matplotlib.pyplot as plt\n",
    "\n",
    "from __future__ import print_function\n",
    "\n",
    "%matplotlib inline\n",
    "plt.rcParams['figure.figsize'] = (10.0, 8.0) # set default size of plots\n",
    "plt.rcParams['image.interpolation'] = 'nearest'\n",
    "plt.rcParams['image.cmap'] = 'gray'\n",
    "\n",
    "# for auto-reloading extenrnal modules\n",
    "# see http://stackoverflow.com/questions/1907993/autoreload-of-modules-in-ipython\n",
    "%load_ext autoreload\n",
    "%autoreload 2"
   ]
  },
  {
   "cell_type": "code",
   "execution_count": 2,
   "metadata": {},
   "outputs": [
    {
     "name": "stdout",
     "output_type": "stream",
     "text": [
      "Train data shape:  (49000, 3073)\n",
      "Train labels shape:  (49000,)\n",
      "Validation data shape:  (1000, 3073)\n",
      "Validation labels shape:  (1000,)\n",
      "Test data shape:  (1000, 3073)\n",
      "Test labels shape:  (1000,)\n",
      "dev data shape:  (500, 3073)\n",
      "dev labels shape:  (500,)\n"
     ]
    }
   ],
   "source": [
    "def get_CIFAR10_data(num_training=49000, num_validation=1000, num_test=1000, num_dev=500):\n",
    "    \"\"\"\n",
    "    Load the CIFAR-10 dataset from disk and perform preprocessing to prepare\n",
    "    it for the linear classifier. These are the same steps as we used for the\n",
    "    SVM, but condensed to a single function.  \n",
    "    \"\"\"\n",
    "    # Load the raw CIFAR-10 data\n",
    "    cifar10_dir = 'cs231n/datasets/cifar-10-batches-py'\n",
    "    \n",
    "    X_train, y_train, X_test, y_test = load_CIFAR10(cifar10_dir)\n",
    "    \n",
    "    # subsample the data\n",
    "    mask = list(range(num_training, num_training + num_validation))\n",
    "    X_val = X_train[mask]\n",
    "    y_val = y_train[mask]\n",
    "    mask = list(range(num_training))\n",
    "    X_train = X_train[mask]\n",
    "    y_train = y_train[mask]\n",
    "    mask = list(range(num_test))\n",
    "    X_test = X_test[mask]\n",
    "    y_test = y_test[mask]\n",
    "    mask = np.random.choice(num_training, num_dev, replace=False)\n",
    "    X_dev = X_train[mask]\n",
    "    y_dev = y_train[mask]\n",
    "    \n",
    "    # Preprocessing: reshape the image data into rows\n",
    "    X_train = np.reshape(X_train, (X_train.shape[0], -1))\n",
    "    X_val = np.reshape(X_val, (X_val.shape[0], -1))\n",
    "    X_test = np.reshape(X_test, (X_test.shape[0], -1))\n",
    "    X_dev = np.reshape(X_dev, (X_dev.shape[0], -1))\n",
    "    \n",
    "    # Normalize the data: subtract the mean image\n",
    "    mean_image = np.mean(X_train, axis = 0)\n",
    "    X_train -= mean_image\n",
    "    X_val -= mean_image\n",
    "    X_test -= mean_image\n",
    "    X_dev -= mean_image\n",
    "    \n",
    "    # add bias dimension and transform into columns\n",
    "    X_train = np.hstack([X_train, np.ones((X_train.shape[0], 1))])\n",
    "    X_val = np.hstack([X_val, np.ones((X_val.shape[0], 1))])\n",
    "    X_test = np.hstack([X_test, np.ones((X_test.shape[0], 1))])\n",
    "    X_dev = np.hstack([X_dev, np.ones((X_dev.shape[0], 1))])\n",
    "    \n",
    "    return X_train, y_train, X_val, y_val, X_test, y_test, X_dev, y_dev\n",
    "\n",
    "\n",
    "# Cleaning up variables to prevent loading data multiple times (which may cause memory issue)\n",
    "try:\n",
    "   del X_train, y_train\n",
    "   del X_test, y_test\n",
    "   print('Clear previously loaded data.')\n",
    "except:\n",
    "   pass\n",
    "\n",
    "# Invoke the above function to get our data.\n",
    "X_train, y_train, X_val, y_val, X_test, y_test, X_dev, y_dev = get_CIFAR10_data()\n",
    "print('Train data shape: ', X_train.shape)\n",
    "print('Train labels shape: ', y_train.shape)\n",
    "print('Validation data shape: ', X_val.shape)\n",
    "print('Validation labels shape: ', y_val.shape)\n",
    "print('Test data shape: ', X_test.shape)\n",
    "print('Test labels shape: ', y_test.shape)\n",
    "print('dev data shape: ', X_dev.shape)\n",
    "print('dev labels shape: ', y_dev.shape)"
   ]
  },
  {
   "cell_type": "markdown",
   "metadata": {},
   "source": [
    "## Softmax Classifier\n",
    "\n",
    "Your code for this section will all be written inside **cs231n/classifiers/softmax.py**. \n"
   ]
  },
  {
   "cell_type": "code",
   "execution_count": 134,
   "metadata": {},
   "outputs": [],
   "source": [
    "# Generate a random softmax weight matrix and use it to compute the loss.\n",
    "W = np.random.randn(3073, 10) * 0.0001"
   ]
  },
  {
   "cell_type": "code",
   "execution_count": 135,
   "metadata": {},
   "outputs": [
    {
     "name": "stdout",
     "output_type": "stream",
     "text": [
      "loss: 2.335597\n",
      "sanity check: 2.302585\n"
     ]
    }
   ],
   "source": [
    "# First implement the naive softmax loss function with nested loops.\n",
    "# Open the file cs231n/classifiers/softmax.py and implement the\n",
    "# softmax_loss_naive function.\n",
    "\n",
    "from cs231n.classifiers.softmax import softmax_loss_naive\n",
    "import time\n",
    "import random\n",
    "random.seed = 17\n",
    "\n",
    "# Generate a random softmax weight matrix and use it to compute the loss.\n",
    "loss, grad = softmax_loss_naive(W, X_dev, y_dev, 0.0)\n",
    "\n",
    "# As a rough sanity check, our loss should be something close to -log(0.1).\n",
    "print('loss: %f' % loss)\n",
    "print('sanity check: %f' % (-np.log(0.1)))"
   ]
  },
  {
   "cell_type": "markdown",
   "metadata": {},
   "source": [
    "## Inline Question 1:\n",
    "Why do we expect our loss to be close to -log(0.1)? Explain briefly.**\n",
    "\n",
    "**Your answer:** *Fill this in*\n"
   ]
  },
  {
   "cell_type": "code",
   "execution_count": 136,
   "metadata": {},
   "outputs": [
    {
     "name": "stdout",
     "output_type": "stream",
     "text": [
      "numerical: -1.242477 analytic: -1.242477, relative error: 1.129796e-08\n",
      "numerical: -0.872214 analytic: -0.872214, relative error: 2.581137e-08\n",
      "numerical: -1.747568 analytic: -1.747568, relative error: 1.930169e-09\n",
      "numerical: -0.258495 analytic: -0.258495, relative error: 7.451779e-08\n",
      "numerical: 0.230520 analytic: 0.230521, relative error: 2.228269e-07\n",
      "numerical: 2.525056 analytic: 2.525056, relative error: 1.039303e-08\n",
      "numerical: 0.669212 analytic: 0.669212, relative error: 5.097189e-08\n",
      "numerical: 0.611629 analytic: 0.611629, relative error: 4.013097e-08\n",
      "numerical: 0.353985 analytic: 0.353985, relative error: 2.836468e-08\n",
      "numerical: 0.834249 analytic: 0.834249, relative error: 9.805061e-08\n",
      "numerical: -0.602461 analytic: -0.602461, relative error: 5.285553e-08\n",
      "numerical: -0.771207 analytic: -0.771207, relative error: 4.311038e-08\n",
      "numerical: -2.548515 analytic: -2.548515, relative error: 2.216729e-08\n",
      "numerical: 3.005058 analytic: 3.005058, relative error: 1.893761e-08\n",
      "numerical: 3.114313 analytic: 3.114313, relative error: 1.106834e-08\n",
      "numerical: 0.738945 analytic: 0.738945, relative error: 7.372541e-09\n",
      "numerical: -2.426648 analytic: -2.426648, relative error: 1.585298e-08\n",
      "numerical: 2.065573 analytic: 2.065573, relative error: 1.649538e-08\n",
      "numerical: -0.212602 analytic: -0.212602, relative error: 4.516955e-09\n",
      "numerical: 0.473094 analytic: 0.473094, relative error: 6.100714e-08\n"
     ]
    }
   ],
   "source": [
    "# Complete the implementation of softmax_loss_naive and implement a (naive)\n",
    "# version of the gradient that uses nested loops.\n",
    "loss, grad = softmax_loss_naive(W, X_dev, y_dev, 0.0)\n",
    "\n",
    "# As we did for the SVM, use numeric gradient checking as a debugging tool.\n",
    "# The numeric gradient should be close to the analytic gradient.\n",
    "from cs231n.gradient_check import grad_check_sparse\n",
    "f = lambda w: softmax_loss_naive(w, X_dev, y_dev, 0.0)[0]\n",
    "grad_numerical = grad_check_sparse(f, W, grad, 10)\n",
    "\n",
    "# similar to SVM case, do another gradient check with regularization\n",
    "loss, grad = softmax_loss_naive(W, X_dev, y_dev, 5e1)\n",
    "f = lambda w: softmax_loss_naive(w, X_dev, y_dev, 5e1)[0]\n",
    "grad_numerical = grad_check_sparse(f, W, grad, 10)"
   ]
  },
  {
   "cell_type": "code",
   "execution_count": 140,
   "metadata": {},
   "outputs": [
    {
     "data": {
      "text/plain": [
       "(500, 10)"
      ]
     },
     "execution_count": 140,
     "metadata": {},
     "output_type": "execute_result"
    }
   ],
   "source": [
    "X = X_dev.copy()\n",
    "y = y_dev.copy()\n",
    "loss = 0.0\n",
    "dW = np.zeros_like(W)\n",
    "##############################################################\n",
    "num_train = X.shape[0]\n",
    "num_classes = W.shape[1]\n",
    "\n",
    "scores = X.dot(W)\n",
    "sigma = np.exp(scores) / np.sum(np.exp(scores))\n",
    "scores.shape\n",
    "\n",
    "\n",
    "# loss += -np.log(sigma)\n",
    "\n",
    "\n",
    "# loss /= num_train\n",
    "# dW /= num_train"
   ]
  },
  {
   "cell_type": "code",
   "execution_count": 155,
   "metadata": {},
   "outputs": [
    {
     "ename": "NameError",
     "evalue": "name 'score' is not defined",
     "output_type": "error",
     "traceback": [
      "\u001b[0;31m---------------------------------------------------------------------------\u001b[0m",
      "\u001b[0;31mNameError\u001b[0m                                 Traceback (most recent call last)",
      "\u001b[0;32m<ipython-input-155-d2d780e36333>\u001b[0m in \u001b[0;36m<module>\u001b[0;34m()\u001b[0m\n\u001b[0;32m----> 1\u001b[0;31m \u001b[0mscore\u001b[0m\u001b[0;34m\u001b[0m\u001b[0m\n\u001b[0m",
      "\u001b[0;31mNameError\u001b[0m: name 'score' is not defined"
     ]
    }
   ],
   "source": [
    "score"
   ]
  },
  {
   "cell_type": "code",
   "execution_count": 153,
   "metadata": {},
   "outputs": [
    {
     "data": {
      "text/plain": [
       "array([1, 9, 2, 6, 5, 1, 8, 9, 8, 1])"
      ]
     },
     "execution_count": 153,
     "metadata": {},
     "output_type": "execute_result"
    }
   ],
   "source": [
    "y[:10]"
   ]
  },
  {
   "cell_type": "code",
   "execution_count": 154,
   "metadata": {},
   "outputs": [
    {
     "data": {
      "text/plain": [
       "array([[0.00015389, 0.00023143, 0.00014205, ..., 0.00028734, 0.00016874,\n",
       "        0.00014349],\n",
       "       [0.00020748, 0.00056814, 0.00010594, ..., 0.00016949, 0.00052106,\n",
       "        0.00016202],\n",
       "       [0.00036917, 0.00021796, 0.00014326, ..., 0.0001269 , 0.00022583,\n",
       "        0.00010901],\n",
       "       ...,\n",
       "       [0.0002763 , 0.00017145, 0.0001572 , ..., 0.00017267, 0.00017791,\n",
       "        0.00017438],\n",
       "       [0.0001633 , 0.00017448, 0.000225  , ..., 0.00022989, 0.00018887,\n",
       "        0.0002241 ],\n",
       "       [0.00019945, 0.00023637, 0.00022806, ..., 0.000201  , 0.00019087,\n",
       "        0.00014153]])"
      ]
     },
     "execution_count": 154,
     "metadata": {},
     "output_type": "execute_result"
    }
   ],
   "source": [
    "sigma"
   ]
  },
  {
   "cell_type": "code",
   "execution_count": null,
   "metadata": {},
   "outputs": [],
   "source": []
  },
  {
   "cell_type": "code",
   "execution_count": 151,
   "metadata": {},
   "outputs": [
    {
     "data": {
      "text/plain": [
       "array([2.31433287e-04, 1.62023027e-04, 1.43262039e-04, 1.45304277e-04,\n",
       "       2.70685269e-04, 2.38313876e-04, 2.01423282e-04, 2.61070741e-04,\n",
       "       2.29706221e-04, 2.93740769e-04, 3.46300264e-04, 1.75833237e-04,\n",
       "       3.14006783e-04, 1.69643761e-04, 2.02948608e-04, 1.84848084e-04,\n",
       "       1.15117328e-04, 2.84454110e-04, 1.08012786e-04, 2.37549123e-04,\n",
       "       4.08832505e-04, 1.51712105e-04, 1.91861030e-04, 2.04312556e-04,\n",
       "       1.65902539e-04, 1.01943225e-04, 2.85693967e-04, 1.37849527e-04,\n",
       "       4.02860392e-04, 1.81858197e-04, 2.17129405e-04, 2.46698562e-04,\n",
       "       1.19145222e-04, 2.36082225e-04, 1.81400847e-04, 1.42622254e-04,\n",
       "       1.81951968e-04, 9.70881148e-05, 1.36463578e-04, 1.75771303e-04,\n",
       "       1.44930556e-04, 2.55930500e-04, 1.34907006e-04, 2.31455268e-04,\n",
       "       2.79483852e-04, 1.70710279e-04, 1.61489213e-04, 1.54778314e-04,\n",
       "       2.40602165e-04, 1.61947534e-04, 1.73129163e-04, 1.93705098e-04,\n",
       "       9.31723512e-05, 3.64542535e-04, 1.71128596e-04, 1.99604502e-04,\n",
       "       1.57029842e-04, 1.53007897e-04, 8.89664865e-05, 2.05329429e-04,\n",
       "       2.79491087e-04, 1.54937976e-04, 2.14037215e-04, 1.63751907e-04,\n",
       "       3.95023163e-04, 1.60930922e-04, 1.93604519e-04, 1.46311372e-04,\n",
       "       2.84541170e-04, 2.56992217e-04, 2.28029998e-04, 1.41125228e-04,\n",
       "       1.40035888e-04, 2.33819844e-04, 1.30338122e-04, 2.85309853e-04,\n",
       "       1.90154670e-04, 2.18225471e-04, 1.46379175e-04, 9.13242513e-05,\n",
       "       2.18837079e-04, 1.91512801e-04, 1.68722575e-04, 1.96703528e-04,\n",
       "       1.34074561e-04, 1.63557544e-04, 2.37862026e-04, 2.56128526e-04,\n",
       "       1.72121752e-04, 1.47484311e-04, 2.55881587e-04, 1.99969921e-04,\n",
       "       4.42413206e-04, 1.03325812e-04, 2.71861358e-04, 1.93546103e-04,\n",
       "       3.15320624e-04, 9.95733815e-05, 1.67984494e-04, 1.63442547e-04,\n",
       "       4.22014178e-04, 1.36897164e-04, 1.59232908e-04, 1.86478002e-04,\n",
       "       1.81990381e-04, 2.32589496e-04, 1.49891104e-04, 1.17668327e-04,\n",
       "       1.16970988e-04, 2.12104990e-04, 2.17310318e-04, 1.65756330e-04,\n",
       "       1.60985648e-04, 2.03804838e-04, 1.17066194e-04, 2.89272745e-04,\n",
       "       2.67709080e-04, 3.41895776e-04, 2.97465993e-04, 2.71594362e-04,\n",
       "       1.24041747e-04, 1.29828589e-04, 2.63831732e-04, 2.64356355e-04,\n",
       "       1.66881357e-04, 2.91125357e-04, 2.21099746e-04, 1.78287040e-04,\n",
       "       3.46205334e-04, 1.60672420e-04, 2.46016089e-04, 3.73281657e-04,\n",
       "       6.74714070e-04, 1.96098905e-04, 2.22087786e-04, 1.95929543e-04,\n",
       "       2.04635988e-04, 1.22390574e-04, 2.05096808e-04, 1.96664270e-04,\n",
       "       1.85217359e-04, 1.34136152e-04, 2.59217827e-04, 2.99881619e-04,\n",
       "       1.92963742e-04, 2.37045674e-04, 1.44326308e-04, 2.74216907e-04,\n",
       "       1.46430764e-04, 1.93888852e-04, 1.54492307e-04, 2.94592730e-04,\n",
       "       3.19416976e-04, 1.69158273e-04, 9.19713103e-05, 1.71425687e-04,\n",
       "       1.46670900e-04, 7.77714570e-05, 1.75896561e-04, 2.59336902e-04,\n",
       "       2.74230011e-04, 1.35927547e-04, 1.40279802e-04, 2.30513926e-04,\n",
       "       1.70940074e-04, 1.05143643e-04, 1.43105838e-04, 1.62550109e-04,\n",
       "       1.49464904e-04, 1.71746223e-04, 1.89186832e-04, 1.68580196e-04,\n",
       "       2.39708139e-04, 2.41974312e-04, 1.85535532e-04, 2.35841574e-04,\n",
       "       1.75818096e-04, 2.39757067e-04, 2.45624751e-04, 1.29346945e-04,\n",
       "       1.70181908e-04, 1.83498166e-04, 2.47250847e-04, 1.96691438e-04,\n",
       "       2.04319301e-04, 1.65814438e-04, 1.43440424e-04, 1.29555452e-04,\n",
       "       1.68867639e-04, 1.97309740e-04, 2.61850183e-04, 1.38042148e-04,\n",
       "       1.52310688e-04, 2.03372014e-04, 2.86329589e-04, 2.08586640e-04,\n",
       "       1.90186762e-04, 1.09928658e-04, 2.42221041e-04, 1.69076602e-04,\n",
       "       2.16224921e-04, 1.84122175e-04, 2.29870852e-04, 1.26059730e-04,\n",
       "       3.09759031e-04, 6.78131822e-05, 1.94135064e-04, 1.81286260e-04,\n",
       "       2.14647520e-04, 2.13092075e-04, 2.26467530e-04, 1.12400745e-04,\n",
       "       1.25567884e-04, 2.51785132e-04, 1.78765740e-04, 2.22919000e-04,\n",
       "       2.67950693e-04, 1.54256845e-04, 2.15590541e-04, 1.93164019e-04,\n",
       "       1.12413304e-04, 1.07272166e-04, 1.44781831e-04, 1.76243665e-04,\n",
       "       2.34348610e-04, 1.72596184e-04, 7.49637787e-05, 2.15394575e-04,\n",
       "       3.11481766e-04, 1.37627408e-04, 1.94288271e-04, 1.83006409e-04,\n",
       "       1.73884926e-04, 5.49860511e-04, 1.41779891e-04, 4.52858820e-04,\n",
       "       1.91755137e-04, 1.94845728e-04, 1.60164984e-04, 1.35944077e-04,\n",
       "       2.75411544e-04, 1.30616510e-04, 1.36713650e-04, 2.56783828e-04,\n",
       "       2.27751908e-04, 1.64791911e-04, 1.92675482e-04, 1.94472718e-04,\n",
       "       1.97428279e-04, 2.14666431e-04, 2.80725240e-04, 7.45773821e-05,\n",
       "       1.18022289e-04, 1.26922357e-04, 3.15707672e-04, 2.60222235e-04,\n",
       "       1.91847753e-04, 2.58013211e-04, 1.46482080e-04, 2.85709671e-04,\n",
       "       9.35330479e-05, 2.42263902e-04, 2.64493594e-04, 1.47150697e-04,\n",
       "       1.46919652e-04, 1.16776868e-04, 2.18367220e-04, 2.00200309e-04,\n",
       "       3.46798802e-04, 2.80650385e-04, 1.36596310e-04, 2.45156728e-04,\n",
       "       2.37815571e-04, 1.70456885e-04, 2.83752756e-04, 2.69158846e-04,\n",
       "       1.67743201e-04, 3.53552322e-04, 2.42592151e-04, 1.26249297e-04,\n",
       "       2.33290570e-04, 1.42038488e-04, 2.67030653e-04, 3.01575706e-04,\n",
       "       2.02682864e-04, 1.59406075e-04, 1.98247087e-04, 2.13565457e-04,\n",
       "       2.36801759e-04, 2.16775431e-04, 2.24952430e-04, 1.10888813e-04,\n",
       "       2.09375875e-04, 1.86841997e-04, 3.58070726e-04, 3.49513129e-04,\n",
       "       1.48984107e-04, 2.23016401e-04, 4.38970535e-04, 2.32408420e-04,\n",
       "       7.40630711e-05, 1.41824620e-04, 1.70711102e-04, 2.51798768e-04,\n",
       "       2.03046299e-04, 2.43904669e-04, 2.33087722e-04, 2.39503917e-04,\n",
       "       1.11950050e-04, 2.48094783e-04, 2.20848935e-04, 1.13865598e-04,\n",
       "       3.92219813e-04, 2.10772445e-04, 2.09418539e-04, 1.26280361e-04,\n",
       "       1.48909490e-04, 2.37856855e-04, 1.88721941e-04, 2.23769775e-04,\n",
       "       1.66752773e-04, 1.62453191e-04, 1.38225450e-04, 2.66587398e-04,\n",
       "       1.79057452e-04, 2.19810523e-04, 3.54222938e-04, 1.17168899e-04,\n",
       "       1.38039538e-04, 1.34668142e-04, 2.07353831e-04, 1.96747629e-04,\n",
       "       2.09774220e-04, 2.35438598e-04, 2.16628417e-04, 1.53565275e-04,\n",
       "       1.08761537e-04, 2.45007609e-04, 4.44824746e-04, 1.58975303e-04,\n",
       "       8.43099354e-05, 1.45480724e-04, 1.83233107e-04, 2.68514479e-04,\n",
       "       1.59787246e-04, 3.33723098e-04, 2.45164172e-04, 2.11440300e-04,\n",
       "       2.63181564e-04, 1.74530992e-04, 1.97445787e-04, 1.72569245e-04,\n",
       "       2.52889138e-04, 1.30866183e-04, 1.62255404e-04, 3.24639739e-04,\n",
       "       1.92718642e-04, 1.50235934e-04, 1.56977034e-04, 1.81586151e-04,\n",
       "       2.11034110e-04, 1.85376316e-04, 1.16322747e-04, 1.59552197e-04,\n",
       "       3.33085789e-04, 1.21526019e-04, 1.41646531e-04, 2.57603657e-04,\n",
       "       2.41519914e-04, 2.93143976e-04, 2.20987634e-04, 1.41066257e-04,\n",
       "       1.60315080e-04, 3.39011116e-04, 1.41286437e-04, 1.44383415e-04,\n",
       "       2.32520338e-04, 1.33694996e-04, 2.32354676e-04, 2.01739494e-04,\n",
       "       1.72240773e-04, 3.21884531e-04, 1.43038737e-04, 3.13460500e-04,\n",
       "       3.26914739e-04, 1.26533939e-04, 2.93984652e-04, 1.86712411e-04,\n",
       "       1.49043517e-04, 1.59607130e-04, 2.74316930e-04, 4.35204592e-04,\n",
       "       3.55394427e-04, 1.22834630e-04, 1.75951152e-04, 2.60518018e-04,\n",
       "       1.93667520e-04, 3.01178018e-04, 2.48172609e-04, 1.57365941e-04,\n",
       "       1.49623940e-04, 2.32378019e-04, 5.34600015e-04, 2.13986729e-04,\n",
       "       2.32440704e-04, 1.16850931e-04, 1.34504479e-04, 1.81697280e-04,\n",
       "       1.80885829e-04, 2.08931555e-04, 1.67937241e-04, 1.94045619e-04,\n",
       "       2.17854562e-04, 4.21220941e-04, 3.29507371e-04, 1.34023535e-04,\n",
       "       3.88321487e-04, 2.12121515e-04, 1.40645309e-04, 2.32146841e-04,\n",
       "       1.34646607e-04, 3.04219356e-04, 1.88678151e-04, 3.11004015e-04,\n",
       "       2.07173943e-04, 1.94235627e-04, 1.58467831e-04, 2.33145791e-04,\n",
       "       1.11406600e-04, 1.00907979e-04, 2.19739260e-04, 1.25306963e-04,\n",
       "       2.10963331e-04, 1.25287255e-04, 2.44178037e-04, 2.84627366e-04,\n",
       "       8.70953970e-05, 6.79523401e-05, 1.97592809e-04, 1.95278560e-04,\n",
       "       1.37922567e-04, 2.15183976e-04, 1.31396062e-04, 2.28004477e-04,\n",
       "       3.65510502e-04, 1.74290381e-04, 2.35006066e-04, 2.99296496e-04,\n",
       "       1.44399900e-04, 1.77561316e-04, 2.39289084e-04, 6.93247407e-05,\n",
       "       4.15411593e-04, 1.39098738e-04, 1.77893072e-04, 6.56284914e-05,\n",
       "       1.26258554e-04, 2.79364288e-04, 1.43244287e-04, 1.05348416e-04,\n",
       "       4.45553548e-04, 1.67067203e-04, 1.68749472e-04, 2.14137530e-04,\n",
       "       2.44914316e-04, 3.14909687e-04, 3.69428770e-04, 2.13648611e-04,\n",
       "       1.72129201e-04, 1.99430092e-04, 1.58488565e-04, 2.35407094e-04,\n",
       "       2.10225730e-04, 2.00863159e-04, 1.55335421e-04, 2.45946734e-04,\n",
       "       3.02147915e-04, 1.80942961e-04, 1.77202112e-04, 2.16936203e-04,\n",
       "       2.48877870e-04, 1.52998288e-04, 3.51218576e-04, 2.30164171e-04,\n",
       "       1.41294000e-04, 2.67901383e-04, 7.19651382e-05, 1.74985966e-04,\n",
       "       3.48689115e-04, 1.37920957e-04, 1.60063138e-04, 1.78637108e-04,\n",
       "       2.08512190e-04, 7.24065722e-05, 2.64334047e-04, 1.83314568e-04,\n",
       "       1.36995855e-04, 1.57198955e-04, 2.29888172e-04, 1.70474621e-04])"
      ]
     },
     "execution_count": 151,
     "metadata": {},
     "output_type": "execute_result"
    }
   ],
   "source": [
    "sigma[range(y.shape[0]), y]"
   ]
  },
  {
   "cell_type": "code",
   "execution_count": 21,
   "metadata": {},
   "outputs": [
    {
     "name": "stdout",
     "output_type": "stream",
     "text": [
      "naive loss: 2.367614e+00 computed in 0.119839s\n",
      "vectorized loss: 0.000000e+00 computed in 0.000407s\n",
      "Loss difference: 2.367614\n",
      "Gradient difference: 4737.080862\n"
     ]
    }
   ],
   "source": [
    "# Now that we have a naive implementation of the softmax loss function and its gradient,\n",
    "# implement a vectorized version in softmax_loss_vectorized.\n",
    "# The two versions should compute the same results, but the vectorized version should be\n",
    "# much faster.\n",
    "tic = time.time()\n",
    "loss_naive, grad_naive = softmax_loss_naive(W, X_dev, y_dev, 0.000005)\n",
    "toc = time.time()\n",
    "print('naive loss: %e computed in %fs' % (loss_naive, toc - tic))\n",
    "\n",
    "from cs231n.classifiers.softmax import softmax_loss_vectorized\n",
    "tic = time.time()\n",
    "loss_vectorized, grad_vectorized = softmax_loss_vectorized(W, X_dev, y_dev, 0.000005)\n",
    "toc = time.time()\n",
    "print('vectorized loss: %e computed in %fs' % (loss_vectorized, toc - tic))\n",
    "\n",
    "# As we did for the SVM, we use the Frobenius norm to compare the two versions\n",
    "# of the gradient.\n",
    "grad_difference = np.linalg.norm(grad_naive - grad_vectorized, ord='fro')\n",
    "print('Loss difference: %f' % np.abs(loss_naive - loss_vectorized))\n",
    "print('Gradient difference: %f' % grad_difference)"
   ]
  },
  {
   "cell_type": "code",
   "execution_count": null,
   "metadata": {},
   "outputs": [],
   "source": [
    "# Use the validation set to tune hyperparameters (regularization strength and\n",
    "# learning rate). You should experiment with different ranges for the learning\n",
    "# rates and regularization strengths; if you are careful you should be able to\n",
    "# get a classification accuracy of over 0.35 on the validation set.\n",
    "from cs231n.classifiers import Softmax\n",
    "results = {}\n",
    "best_val = -1\n",
    "best_softmax = None\n",
    "learning_rates = [1e-7, 5e-7]\n",
    "regularization_strengths = [2.5e4, 5e4]\n",
    "\n",
    "################################################################################\n",
    "# TODO:                                                                        #\n",
    "# Use the validation set to set the learning rate and regularization strength. #\n",
    "# This should be identical to the validation that you did for the SVM; save    #\n",
    "# the best trained softmax classifer in best_softmax.                          #\n",
    "################################################################################\n",
    "# Your code\n",
    "################################################################################\n",
    "#                              END OF YOUR CODE                                #\n",
    "################################################################################\n",
    "    \n",
    "# Print out results.\n",
    "for lr, reg in sorted(results):\n",
    "    train_accuracy, val_accuracy = results[(lr, reg)]\n",
    "    print('lr %e reg %e train accuracy: %f val accuracy: %f' % (\n",
    "                lr, reg, train_accuracy, val_accuracy))\n",
    "    \n",
    "print('best validation accuracy achieved during cross-validation: %f' % best_val)"
   ]
  },
  {
   "cell_type": "code",
   "execution_count": null,
   "metadata": {},
   "outputs": [],
   "source": [
    "# evaluate on test set\n",
    "# Evaluate the best softmax on test set\n",
    "y_test_pred = best_softmax.predict(X_test)\n",
    "test_accuracy = np.mean(y_test == y_test_pred)\n",
    "print('softmax on raw pixels final test set accuracy: %f' % (test_accuracy, ))"
   ]
  },
  {
   "cell_type": "markdown",
   "metadata": {},
   "source": [
    "**Inline Question** - *True or False*\n",
    "\n",
    "It's possible to add a new datapoint to a training set that would leave the SVM loss unchanged, but this is not the case with the Softmax classifier loss.\n",
    "\n",
    "*Your answer*:\n",
    "\n",
    "*Your explanation*:"
   ]
  },
  {
   "cell_type": "code",
   "execution_count": null,
   "metadata": {},
   "outputs": [],
   "source": [
    "# Visualize the learned weights for each class\n",
    "w = best_softmax.W[:-1,:] # strip out the bias\n",
    "w = w.reshape(32, 32, 3, 10)\n",
    "\n",
    "w_min, w_max = np.min(w), np.max(w)\n",
    "\n",
    "classes = ['plane', 'car', 'bird', 'cat', 'deer', 'dog', 'frog', 'horse', 'ship', 'truck']\n",
    "for i in range(10):\n",
    "    plt.subplot(2, 5, i + 1)\n",
    "    \n",
    "    # Rescale the weights to be between 0 and 255\n",
    "    wimg = 255.0 * (w[:, :, :, i].squeeze() - w_min) / (w_max - w_min)\n",
    "    plt.imshow(wimg.astype('uint8'))\n",
    "    plt.axis('off')\n",
    "    plt.title(classes[i])"
   ]
  }
 ],
 "metadata": {
  "kernelspec": {
   "display_name": "Python 3",
   "language": "python",
   "name": "python3"
  },
  "language_info": {
   "codemirror_mode": {
    "name": "ipython",
    "version": 3
   },
   "file_extension": ".py",
   "mimetype": "text/x-python",
   "name": "python",
   "nbconvert_exporter": "python",
   "pygments_lexer": "ipython3",
   "version": "3.6.4"
  }
 },
 "nbformat": 4,
 "nbformat_minor": 1
}
